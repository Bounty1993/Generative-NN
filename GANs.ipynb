{
 "cells": [
  {
   "cell_type": "code",
   "execution_count": 48,
   "id": "august-quarterly",
   "metadata": {},
   "outputs": [],
   "source": [
    "import numpy as np\n",
    "\n",
    "import tensorflow as tf\n",
    "\n",
    "from tensorflow.keras.utils import to_categorical\n",
    "from tensorflow.keras.models import Model\n",
    "from tensorflow.keras.layers import Dense, Flatten, Conv2D\n",
    "from tensorflow.keras.datasets import mnist\n",
    "\n",
    "import matplotlib.pyplot as plt"
   ]
  },
  {
   "cell_type": "code",
   "execution_count": 35,
   "id": "subjective-india",
   "metadata": {},
   "outputs": [],
   "source": [
    "class Discriminator(Model):\n",
    "    def __init__(self, **kwargs):\n",
    "        super(Discriminator, self).__init__(**kwargs)\n",
    "        self.dense_1 = Dense(64, activation='relu')\n",
    "        self.dense_2 = Dense(32, activation='relu')\n",
    "        self.dense_3 = Dense(32, activation='relu')\n",
    "        self.flat_layer = Flatten()\n",
    "        self.output_layer = Dense(10, activation='softmax')\n",
    "        \n",
    "    def call(self, inputs):\n",
    "        x = self.dense_1(inputs)\n",
    "        x = self.dense_2(x)\n",
    "        x = self.dense_3(x)\n",
    "        x = self.flat_layer(x)\n",
    "        output = self.output_layer(x)\n",
    "        return output"
   ]
  },
  {
   "cell_type": "code",
   "execution_count": 36,
   "id": "renewable-india",
   "metadata": {},
   "outputs": [],
   "source": [
    "(x_train, y_train), (x_test, y_test) = mnist.load_data()\n",
    "y_train = to_categorical(y_train)\n",
    "y_test = to_categorical(y_test)"
   ]
  },
  {
   "cell_type": "code",
   "execution_count": 38,
   "id": "active-project",
   "metadata": {},
   "outputs": [],
   "source": [
    "model = Discriminator()\n",
    "model.compile(optimizer='adam', loss='categorical_crossentropy', metrics=['accuracy'])"
   ]
  },
  {
   "cell_type": "code",
   "execution_count": 39,
   "id": "mounted-mercy",
   "metadata": {},
   "outputs": [
    {
     "name": "stdout",
     "output_type": "stream",
     "text": [
      "Epoch 1/10\n",
      "237/237 [==============================] - 2s 9ms/step - loss: 2.3155 - accuracy: 0.7229 - val_loss: 0.4445 - val_accuracy: 0.8743\n",
      "Epoch 2/10\n",
      "237/237 [==============================] - 2s 9ms/step - loss: 0.3557 - accuracy: 0.8969 - val_loss: 0.2720 - val_accuracy: 0.9177\n",
      "Epoch 3/10\n",
      "237/237 [==============================] - 2s 8ms/step - loss: 0.2444 - accuracy: 0.9274 - val_loss: 0.2167 - val_accuracy: 0.9352\n",
      "Epoch 4/10\n",
      "237/237 [==============================] - 2s 8ms/step - loss: 0.1960 - accuracy: 0.9399 - val_loss: 0.1922 - val_accuracy: 0.9435\n",
      "Epoch 5/10\n",
      "237/237 [==============================] - 2s 9ms/step - loss: 0.1688 - accuracy: 0.9490 - val_loss: 0.1718 - val_accuracy: 0.9460\n",
      "Epoch 6/10\n",
      "237/237 [==============================] - 2s 8ms/step - loss: 0.1502 - accuracy: 0.9538 - val_loss: 0.1688 - val_accuracy: 0.9471\n",
      "Epoch 7/10\n",
      "237/237 [==============================] - 2s 8ms/step - loss: 0.1390 - accuracy: 0.9577 - val_loss: 0.1570 - val_accuracy: 0.9511\n",
      "Epoch 8/10\n",
      "237/237 [==============================] - 2s 9ms/step - loss: 0.1287 - accuracy: 0.9607 - val_loss: 0.1607 - val_accuracy: 0.9512\n",
      "Epoch 9/10\n",
      "237/237 [==============================] - 2s 8ms/step - loss: 0.1211 - accuracy: 0.9627 - val_loss: 0.1636 - val_accuracy: 0.9505\n",
      "Epoch 10/10\n",
      "237/237 [==============================] - 2s 8ms/step - loss: 0.1145 - accuracy: 0.9644 - val_loss: 0.1528 - val_accuracy: 0.9543\n"
     ]
    },
    {
     "data": {
      "text/plain": [
       "<tensorflow.python.keras.callbacks.History at 0x2788b352970>"
      ]
     },
     "execution_count": 39,
     "metadata": {},
     "output_type": "execute_result"
    }
   ],
   "source": [
    "model.fit(x_train, y_train, epochs=10, batch_size=254, validation_data=(x_test, y_test))"
   ]
  },
  {
   "cell_type": "code",
   "execution_count": 58,
   "id": "colonial-airplane",
   "metadata": {},
   "outputs": [
    {
     "data": {
      "text/plain": [
       "<matplotlib.image.AxesImage at 0x2788da72ee0>"
      ]
     },
     "execution_count": 58,
     "metadata": {},
     "output_type": "execute_result"
    },
    {
     "data": {
      "image/png": "[encoded data removed]",
      "text/plain": [
       "<Figure size 432x288 with 1 Axes>"
      ]
     },
     "metadata": {
      "needs_background": "light"
     },
     "output_type": "display_data"
    }
   ],
   "source": [
    "plt.imshow(x_test[0])"
   ]
  },
  {
   "cell_type": "code",
   "execution_count": 56,
   "id": "useful-tribute",
   "metadata": {},
   "outputs": [],
   "source": [
    "res = model.predict(x_test[1:2])"
   ]
  }
 ],
 "metadata": {
  "kernelspec": {
   "display_name": "Python 3",
   "language": "python",
   "name": "python3"
  },
  "language_info": {
   "codemirror_mode": {
    "name": "ipython",
    "version": 3
   },
   "file_extension": ".py",
   "mimetype": "text/x-python",
   "name": "python",
   "nbconvert_exporter": "python",
   "pygments_lexer": "ipython3",
   "version": "3.8.5"
  }
 },
 "nbformat": 4,
 "nbformat_minor": 5
}
