{
 "cells": [
  {
   "cell_type": "code",
   "execution_count": 68,
   "id": "liable-stupid",
   "metadata": {},
   "outputs": [],
   "source": [
    "import numpy as np\n",
    "\n",
    "import tensorflow as tf\n",
    "\n",
    "from tensorflow.keras.utils import to_categorical\n",
    "from tensorflow.keras.models import Model\n",
    "from tensorflow.keras.layers import Dense, Flatten, Conv2D, Conv2DTranspose, Reshape, BatchNormalization\n",
    "from tensorflow.keras.datasets import mnist\n",
    "\n",
    "import matplotlib.pyplot as plt"
   ]
  },
  {
   "cell_type": "code",
   "execution_count": 66,
   "id": "foreign-fountain",
   "metadata": {},
   "outputs": [],
   "source": [
    "class Discriminator(Model):\n",
    "    def __init__(self, **kwargs):\n",
    "        super(Discriminator, self).__init__(**kwargs)\n",
    "        self.dense_1 = Dense(64, activation='relu')\n",
    "        self.dense_2 = Dense(32, activation='relu')\n",
    "        self.dense_3 = Dense(32, activation='relu')\n",
    "        self.flat_layer = Flatten()\n",
    "        self.output_layer = Dense(10, activation='softmax')\n",
    "        \n",
    "    def call(self, inputs):\n",
    "        x = self.dense_1(inputs)\n",
    "        x = self.dense_2(x)\n",
    "        x = self.dense_3(x)\n",
    "        x = self.flat_layer(x)\n",
    "        output = self.output_layer(x)\n",
    "        return output\n",
    "    \n",
    "    \n",
    "class Generator(Model):\n",
    "    def __init__(self, **kwargs):\n",
    "        super(Generator, self).__init__(**kwargs)\n",
    "        self.dense_1 = Dense(7*7*256, activation='relu', input_shape=(100,), name='dense_1')\n",
    "        self.reshape = Reshape((7, 7, 256), name='reshape')\n",
    "        \n",
    "        self.conv2dt_1 = Conv2DTranspose(128, (3, 3), strides=1, padding='same', name='conv2dt_1')\n",
    "        self.bn1 = BatchNormalization(name='bn1')\n",
    "        \n",
    "        self.conv2dt_2 = Conv2DTranspose(64, (3, 3), strides=2, padding='same', name='conv2dt_2')\n",
    "        self.bn2 = BatchNormalization(name='bn2')\n",
    "        \n",
    "        self.conv2dt_3 = Conv2DTranspose(1, (3, 3), strides=2, padding='same', \n",
    "                                         activation='tanh', name='conv2dt_3')\n",
    "        \n",
    "    def call(self, inputs):\n",
    "        x = self.dense_1(inputs)\n",
    "        x = self.reshape(x)\n",
    "        x = self.conv2dt_1(x)\n",
    "        x = self.bn1(x)\n",
    "        x = self.conv2dt_2(x)\n",
    "        x = self.bn2(x)\n",
    "        output = self.conv2dt_3(x)\n",
    "        return output\n",
    "    \n",
    "    \n",
    "class GAN(Model):\n",
    "    def __init__(self, latent_dim, **kwargs):\n",
    "        super(GAN, self).__init__(**kwargs)\n",
    "        self.discriminator = Discriminator()\n",
    "        self.generator = Generator()\n",
    "        self.latent_dim\n",
    "        \n",
    "    def compile(self, d_optimizer, g_optimizer, loss_fn):\n",
    "        super(GAN, self).compile()\n",
    "        self.d_optimizer = d_optimizer\n",
    "        self.g_optimizer = g_optimizer\n",
    "        self.loss_fn = loss_fn\n",
    "    \n",
    "    def train_step(self, data):\n",
    "        batch_size = tf.shape(data)[0]\n",
    "        fake_img = tf.random.normal(shape=(batch_size, self.latent_dim))\n",
    "        fake_img = self.generator(fake_img)\n",
    "        both_img = tf.concatenate([fake_img, data], axis=0)\n",
    "        labels = tf.concatenate([tf.ones(batch_size, 1),\n",
    "                                 tf.zeros(batch_size, 0)],\n",
    "                                axis=0)\n",
    "        labels += 0.05 * tf.random.uniform(shape=(2 * batch_size, 1))\n",
    "        \n",
    "        with GradientTape() as tape:\n",
    "            preds = self.discriminator(both_img)\n",
    "            self.loss_fn(labels, preds)\n",
    "            \n",
    "        "
   ]
  },
  {
   "cell_type": "code",
   "execution_count": 36,
   "id": "loose-round",
   "metadata": {},
   "outputs": [],
   "source": [
    "(x_train, y_train), (x_test, y_test) = mnist.load_data()\n",
    "y_train = to_categorical(y_train)\n",
    "y_test = to_categorical(y_test)"
   ]
  },
  {
   "cell_type": "code",
   "execution_count": 38,
   "id": "southwest-consumption",
   "metadata": {},
   "outputs": [],
   "source": [
    "model = Discriminator()\n",
    "model.compile(optimizer='adam', loss='categorical_crossentropy', metrics=['accuracy'])"
   ]
  },
  {
   "cell_type": "code",
   "execution_count": 39,
   "id": "virtual-assignment",
   "metadata": {},
   "outputs": [
    {
     "name": "stdout",
     "output_type": "stream",
     "text": [
      "Epoch 1/10\n",
      "237/237 [==============================] - 2s 9ms/step - loss: 2.3155 - accuracy: 0.7229 - val_loss: 0.4445 - val_accuracy: 0.8743\n",
      "Epoch 2/10\n",
      "237/237 [==============================] - 2s 9ms/step - loss: 0.3557 - accuracy: 0.8969 - val_loss: 0.2720 - val_accuracy: 0.9177\n",
      "Epoch 3/10\n",
      "237/237 [==============================] - 2s 8ms/step - loss: 0.2444 - accuracy: 0.9274 - val_loss: 0.2167 - val_accuracy: 0.9352\n",
      "Epoch 4/10\n",
      "237/237 [==============================] - 2s 8ms/step - loss: 0.1960 - accuracy: 0.9399 - val_loss: 0.1922 - val_accuracy: 0.9435\n",
      "Epoch 5/10\n",
      "237/237 [==============================] - 2s 9ms/step - loss: 0.1688 - accuracy: 0.9490 - val_loss: 0.1718 - val_accuracy: 0.9460\n",
      "Epoch 6/10\n",
      "237/237 [==============================] - 2s 8ms/step - loss: 0.1502 - accuracy: 0.9538 - val_loss: 0.1688 - val_accuracy: 0.9471\n",
      "Epoch 7/10\n",
      "237/237 [==============================] - 2s 8ms/step - loss: 0.1390 - accuracy: 0.9577 - val_loss: 0.1570 - val_accuracy: 0.9511\n",
      "Epoch 8/10\n",
      "237/237 [==============================] - 2s 9ms/step - loss: 0.1287 - accuracy: 0.9607 - val_loss: 0.1607 - val_accuracy: 0.9512\n",
      "Epoch 9/10\n",
      "237/237 [==============================] - 2s 8ms/step - loss: 0.1211 - accuracy: 0.9627 - val_loss: 0.1636 - val_accuracy: 0.9505\n",
      "Epoch 10/10\n",
      "237/237 [==============================] - 2s 8ms/step - loss: 0.1145 - accuracy: 0.9644 - val_loss: 0.1528 - val_accuracy: 0.9543\n"
     ]
    },
    {
     "data": {
      "text/plain": [
       "<tensorflow.python.keras.callbacks.History at 0x2788b352970>"
      ]
     },
     "execution_count": 39,
     "metadata": {},
     "output_type": "execute_result"
    }
   ],
   "source": [
    "model.fit(x_train, y_train, epochs=10, batch_size=254, validation_data=(x_test, y_test))"
   ]
  },
  {
   "cell_type": "code",
   "execution_count": 72,
   "id": "naval-christianity",
   "metadata": {},
   "outputs": [],
   "source": [
    "test_arr = tf.random.normal((500, 100))\n",
    "generator = Generator()\n",
    "res = generator(test_arr)"
   ]
  },
  {
   "cell_type": "code",
   "execution_count": 80,
   "id": "bearing-cornwall",
   "metadata": {},
   "outputs": [],
   "source": [
    "gen_res = res[0].numpy().squeeze()"
   ]
  },
  {
   "cell_type": "code",
   "execution_count": 83,
   "id": "geographic-socket",
   "metadata": {},
   "outputs": [
    {
     "data": {
      "text/plain": [
       "<matplotlib.image.AxesImage at 0x2788dec1640>"
      ]
     },
     "execution_count": 83,
     "metadata": {},
     "output_type": "execute_result"
    },
    {
     "data": {
      "image/png": "[encoded data removed]",
      "text/plain": [
       "<Figure size 432x288 with 1 Axes>"
      ]
     },
     "metadata": {
      "needs_background": "light"
     },
     "output_type": "display_data"
    }
   ],
   "source": [
    "plt.imshow(gen_res, cmap='gray_r')"
   ]
  },
  {
   "cell_type": "code",
   "execution_count": 86,
   "id": "impaired-editor",
   "metadata": {},
   "outputs": [
    {
     "data": {
      "text/plain": [
       "<matplotlib.image.AxesImage at 0x2788c958760>"
      ]
     },
     "execution_count": 86,
     "metadata": {},
     "output_type": "execute_result"
    },
    {
     "data": {
      "image/png": "[encoded data removed]",
      "text/plain": [
       "<Figure size 432x288 with 1 Axes>"
      ]
     },
     "metadata": {
      "needs_background": "light"
     },
     "output_type": "display_data"
    }
   ],
   "source": [
    "plt.imshow(test_arr, cmap='gray_r')"
   ]
  },
  {
   "cell_type": "code",
   "execution_count": null,
   "id": "hungarian-flexibility",
   "metadata": {},
   "outputs": [],
   "source": []
  }
 ],
 "metadata": {
  "kernelspec": {
   "display_name": "Python 3",
   "language": "python",
   "name": "python3"
  },
  "language_info": {
   "codemirror_mode": {
    "name": "ipython",
    "version": 3
   },
   "file_extension": ".py",
   "mimetype": "text/x-python",
   "name": "python",
   "nbconvert_exporter": "python",
   "pygments_lexer": "ipython3",
   "version": "3.8.5"
  }
 },
 "nbformat": 4,
 "nbformat_minor": 5
}
