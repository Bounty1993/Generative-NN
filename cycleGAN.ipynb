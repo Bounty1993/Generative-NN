{
 "cells": [
  {
   "cell_type": "code",
   "execution_count": 17,
   "id": "signal-netscape",
   "metadata": {},
   "outputs": [],
   "source": [
    "import tensorflow as tf\n",
    "from tensorflow import keras\n",
    "from tensorflow.keras.layers import Dense, Conv2D, Conv2DTranspose, LeakyReLU, Concatenate\n",
    "from tensorflow.keras.models import Sequential\n",
    "import tensorflow_addons as tfa\n",
    "import matplotlib.pyplot as plt\n",
    "import numpy as np"
   ]
  },
  {
   "cell_type": "code",
   "execution_count": 16,
   "id": "confused-cache",
   "metadata": {},
   "outputs": [],
   "source": [
    "def downsample(filters, size):\n",
    "    model = Sequential()\n",
    "    model.add(Conv2D(filters, size, strides=2, padding='same', bias=False))\n",
    "    model.add(tfa.InstanceNormalization())\n",
    "    model.add(LeakyReLU)\n",
    "    return model\n",
    "\n",
    "\n",
    "def upsample(filters, size):\n",
    "    model = Sequential()\n",
    "    model.add(Conv2DTranspose(filters, size, strides=2, padding='same', bias=False))\n",
    "    model.add(tfa.InstanceNormalization())\n",
    "    model.add(LeakyReLU)\n",
    "    return model"
   ]
  },
  {
   "cell_type": "code",
   "execution_count": 21,
   "id": "defensive-river",
   "metadata": {},
   "outputs": [],
   "source": [
    "class Generator(Model):\n",
    "    def __init__(self, \n",
    "                 num_down_layers, \n",
    "                 down_filters, \n",
    "                 down_sizes,\n",
    "                 num_up_layers,\n",
    "                 up_filters,\n",
    "                 up_sizes,\n",
    "                 output_channels):\n",
    "        self.down_layers = []\n",
    "        for i in range(num_down_layers):\n",
    "            filters = down_filters[i]\n",
    "            size = down_sizes[i]\n",
    "            down_layer = downsample(filters, size)\n",
    "            self.down_layers.append(down_layer)\n",
    "        \n",
    "        self.up_layers = []\n",
    "        for i in range(num_up_layers):\n",
    "            filters = up_filters[i]\n",
    "            size = up_sizes[i]\n",
    "            up_layer = upsample(filters, size)\n",
    "            self.up_layers.append(up_layer)\n",
    "            \n",
    "        self.output_layer = Conv2DTranspose(output_channels, \n",
    "                                            4,\n",
    "                                            strides=2,\n",
    "                                            padding='same',\n",
    "                                            activation='tanh')\n",
    "        \n",
    "        def call(self, inputs):\n",
    "            x = inputs\n",
    "            skips = []\n",
    "            for down_layer in self.down_layers:\n",
    "                x = down_layer(x)\n",
    "                skips.append(x)\n",
    "                \n",
    "            skips = reversed(skips[:-1])\n",
    "            \n",
    "            for i in range(self.up_layers):\n",
    "                up_layer = self.up_layers[i]\n",
    "                x = up_layers(x)\n",
    "                skip_output = skips[i]\n",
    "                x = Concatenate()([x, skip_output])\n",
    "                \n",
    "            return self.output_layer(x)\n",
    "        \n",
    "        \n",
    "class Discriminator(Model):\n",
    "    def __init__():\n",
    "        pass"
   ]
  },
  {
   "cell_type": "code",
   "execution_count": null,
   "id": "quarterly-track",
   "metadata": {},
   "outputs": [],
   "source": []
  }
 ],
 "metadata": {
  "kernelspec": {
   "display_name": "Python 3",
   "language": "python",
   "name": "python3"
  },
  "language_info": {
   "codemirror_mode": {
    "name": "ipython",
    "version": 3
   },
   "file_extension": ".py",
   "mimetype": "text/x-python",
   "name": "python",
   "nbconvert_exporter": "python",
   "pygments_lexer": "ipython3",
   "version": "3.8.5"
  }
 },
 "nbformat": 4,
 "nbformat_minor": 5
}
