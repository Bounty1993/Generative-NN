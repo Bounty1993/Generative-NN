{
 "cells": [
  {
   "cell_type": "code",
   "execution_count": 131,
   "id": "municipal-fitting",
   "metadata": {},
   "outputs": [],
   "source": [
    "import numpy as np\n",
    "import pandas as pd\n",
    "\n",
    "import tensorflow as tf\n",
    "from tensorflow.keras.layers import Input, Embedding, LSTM, Dense, TimeDistributed\n",
    "from tensorflow.keras.models import Model\n",
    "from tensorflow.keras.preprocessing.text import Tokenizer\n",
    "from tensorflow.keras.preprocessing.sequence import pad_sequences"
   ]
  },
  {
   "cell_type": "code",
   "execution_count": 164,
   "id": "cross-stranger",
   "metadata": {},
   "outputs": [],
   "source": [
    "input_data = pd.read_csv('input_data.csv')\n",
    "num_obs = 20_000\n",
    "input_data = input_data.sample(num_obs, random_state=10)"
   ]
  },
  {
   "cell_type": "code",
   "execution_count": 165,
   "id": "associate-electron",
   "metadata": {},
   "outputs": [
    {
     "name": "stdout",
     "output_type": "stream",
     "text": [
      "(20000, 2)\n"
     ]
    },
    {
     "data": {
      "text/html": [
       "<div>\n",
       "<style scoped>\n",
       "    .dataframe tbody tr th:only-of-type {\n",
       "        vertical-align: middle;\n",
       "    }\n",
       "\n",
       "    .dataframe tbody tr th {\n",
       "        vertical-align: top;\n",
       "    }\n",
       "\n",
       "    .dataframe thead th {\n",
       "        text-align: right;\n",
       "    }\n",
       "</style>\n",
       "<table border=\"1\" class=\"dataframe\">\n",
       "  <thead>\n",
       "    <tr style=\"text-align: right;\">\n",
       "      <th></th>\n",
       "      <th>clean_quest</th>\n",
       "      <th>clean_ans</th>\n",
       "    </tr>\n",
       "  </thead>\n",
       "  <tbody>\n",
       "    <tr>\n",
       "      <th>98754</th>\n",
       "      <td>what a dork huh huh</td>\n",
       "      <td>yeah heh heh he is a anus heh heh</td>\n",
       "    </tr>\n",
       "    <tr>\n",
       "      <th>20364</th>\n",
       "      <td>the safety circuit is failed</td>\n",
       "      <td>we are losing atmosphere ...</td>\n",
       "    </tr>\n",
       "    <tr>\n",
       "      <th>188963</th>\n",
       "      <td>that is okay i have already had lunch</td>\n",
       "      <td>you must eat lunch pretty early it is only ele...</td>\n",
       "    </tr>\n",
       "    <tr>\n",
       "      <th>189144</th>\n",
       "      <td>the battery is in that is done with besides yo...</td>\n",
       "      <td>... u might /u do the same i have to warn you ...</td>\n",
       "    </tr>\n",
       "    <tr>\n",
       "      <th>20610</th>\n",
       "      <td>are you kidding</td>\n",
       "      <td>no i distinctly remember you walked out my doo...</td>\n",
       "    </tr>\n",
       "  </tbody>\n",
       "</table>\n",
       "</div>"
      ],
      "text/plain": [
       "                                              clean_quest  \\\n",
       "98754                                 what a dork huh huh   \n",
       "20364                        the safety circuit is failed   \n",
       "188963              that is okay i have already had lunch   \n",
       "189144  the battery is in that is done with besides yo...   \n",
       "20610                                     are you kidding   \n",
       "\n",
       "                                                clean_ans  \n",
       "98754                   yeah heh heh he is a anus heh heh  \n",
       "20364                        we are losing atmosphere ...  \n",
       "188963  you must eat lunch pretty early it is only ele...  \n",
       "189144  ... u might /u do the same i have to warn you ...  \n",
       "20610   no i distinctly remember you walked out my doo...  "
      ]
     },
     "execution_count": 165,
     "metadata": {},
     "output_type": "execute_result"
    }
   ],
   "source": [
    "print(input_data.shape)\n",
    "input_data.head()"
   ]
  },
  {
   "cell_type": "code",
   "execution_count": 166,
   "id": "infinite-subdivision",
   "metadata": {},
   "outputs": [
    {
     "data": {
      "text/plain": [
       "98754         <BOS> yeah heh heh he is a anus heh heh <EOS>\n",
       "20364              <BOS> we are losing atmosphere ... <EOS>\n",
       "188963    <BOS> you must eat lunch pretty early it is on...\n",
       "189144    <BOS> ... u might /u do the same i have to war...\n",
       "20610     <BOS> no i distinctly remember you walked out ...\n",
       "                                ...                        \n",
       "77404                <BOS> then i will call you a cab <EOS>\n",
       "72632          <BOS> 'just a few loose ends to tie up <EOS>\n",
       "133109    <BOS> that is a pretty hairy ride full colonel...\n",
       "216599    <BOS> well keep your u wits /u about you and l...\n",
       "148032       <BOS> what the hey let is go for a drive <EOS>\n",
       "Name: clean_ans, Length: 19972, dtype: object"
      ]
     },
     "execution_count": 166,
     "metadata": {},
     "output_type": "execute_result"
    }
   ],
   "source": [
    "input_data = input_data.dropna(axis=0)\n",
    "\n",
    "encoder_input = input_data['clean_quest']\n",
    "decoder_input = input_data['clean_ans']\n",
    "decoder_input = '<BOS> ' + decoder_input + ' <EOS>'\n",
    "full_input = pd.concat([encoder_input, decoder_input], \n",
    "                       ignore_index=True)\n",
    "\n",
    "decoder_input"
   ]
  },
  {
   "cell_type": "code",
   "execution_count": 167,
   "id": "proof-difficulty",
   "metadata": {},
   "outputs": [
    {
     "data": {
      "text/plain": [
       "98754                                   what a dork huh huh\n",
       "20364                          the safety circuit is failed\n",
       "188963                that is okay i have already had lunch\n",
       "189144    the battery is in that is done with besides yo...\n",
       "20610                                       are you kidding\n",
       "                                ...                        \n",
       "77404                           nope can not we are through\n",
       "72632            it is clearly federation in origin captain\n",
       "133109                                               i know\n",
       "216599    you missed your u plane /u my u life /u is ove...\n",
       "148032    now do not make me feel as if i am being too f...\n",
       "Name: clean_quest, Length: 19972, dtype: object"
      ]
     },
     "execution_count": 167,
     "metadata": {},
     "output_type": "execute_result"
    }
   ],
   "source": [
    "encoder_input"
   ]
  },
  {
   "cell_type": "code",
   "execution_count": 168,
   "id": "minimal-triangle",
   "metadata": {},
   "outputs": [],
   "source": [
    "NUM_WORDS = 10_000\n",
    "\n",
    "tokenizer = Tokenizer(num_words=10_000)\n",
    "tokenizer.fit_on_texts(full_input)\n",
    "\n",
    "encoder_seq = tokenizer.texts_to_sequences(encoder_input)\n",
    "decoder_seq = tokenizer.texts_to_sequences(decoder_input)\n",
    "\n",
    "MAXLEN = 20\n",
    "\n",
    "encoder_seq = pad_sequences(encoder_seq, maxlen=MAXLEN, \n",
    "                            padding='post', truncating='post')\n",
    "        \n",
    "decoder_seq = pad_sequences(decoder_seq, maxlen=MAXLEN, \n",
    "                            padding='post', truncating='post')      "
   ]
  },
  {
   "cell_type": "code",
   "execution_count": 169,
   "id": "advisory-litigation",
   "metadata": {},
   "outputs": [],
   "source": [
    "result_output = np.zeros(shape=(len(encoder_seq), MAXLEN, NUM_WORDS), \n",
    "                         dtype='float32')\n",
    "\n",
    "for i, sequences in enumerate(decoder_seq):\n",
    "    for j, sequence in enumerate(sequences):\n",
    "        if j > 0:\n",
    "            result_output[i, j, sequence] = 1"
   ]
  },
  {
   "cell_type": "code",
   "execution_count": 201,
   "id": "experienced-webcam",
   "metadata": {},
   "outputs": [],
   "source": [
    "word_index = tokenizer.word_index\n",
    "word_dict = [(index, word) for word, index in word_index.items()]\n",
    "word_dict = dict(word_dict)"
   ]
  },
  {
   "cell_type": "markdown",
   "id": "boolean-accordance",
   "metadata": {},
   "source": [
    "### Modelling"
   ]
  },
  {
   "cell_type": "code",
   "execution_count": 170,
   "id": "painful-kidney",
   "metadata": {},
   "outputs": [
    {
     "name": "stdout",
     "output_type": "stream",
     "text": [
      "Model: \"functional_7\"\n",
      "__________________________________________________________________________________________________\n",
      "Layer (type)                    Output Shape         Param #     Connected to                     \n",
      "==================================================================================================\n",
      "input_8 (InputLayer)            [(None, 20)]         0                                            \n",
      "__________________________________________________________________________________________________\n",
      "input_7 (InputLayer)            [(None, 20)]         0                                            \n",
      "__________________________________________________________________________________________________\n",
      "embedding_3 (Embedding)         (None, 20, 50)       500000      input_7[0][0]                    \n",
      "                                                                 input_8[0][0]                    \n",
      "__________________________________________________________________________________________________\n",
      "lstm_6 (LSTM)                   [(None, 100), (None, 60400       embedding_3[0][0]                \n",
      "__________________________________________________________________________________________________\n",
      "lstm_7 (LSTM)                   [(None, 20, 100), (N 60400       embedding_3[1][0]                \n",
      "                                                                 lstm_6[0][1]                     \n",
      "                                                                 lstm_6[0][2]                     \n",
      "__________________________________________________________________________________________________\n",
      "time_distributed_3 (TimeDistrib (None, 20, 10000)    1010000     lstm_7[0][0]                     \n",
      "==================================================================================================\n",
      "Total params: 1,630,800\n",
      "Trainable params: 1,630,800\n",
      "Non-trainable params: 0\n",
      "__________________________________________________________________________________________________\n"
     ]
    }
   ],
   "source": [
    "encoder_input_layer = Input(shape=(MAXLEN,), dtype='int32')\n",
    "embedding_layer = Embedding(NUM_WORDS, 50)\n",
    "encoder_embedding = embedding_layer(encoder_input_layer)\n",
    "encoder_lstm = LSTM(100, return_state=True)\n",
    "encoder_outputs, state_h, state_c = encoder_lstm(encoder_embedding)\n",
    "\n",
    "decoder_input_layer = Input(shape=(MAXLEN,), dtype='int32')\n",
    "decoder_embedding = embedding_layer(decoder_input_layer)\n",
    "decoder_lstm = LSTM(100, return_state=True, return_sequences=True)\n",
    "decoder_output, _, _ = decoder_lstm(decoder_embedding, \n",
    "                                    initial_state=[state_h, state_c])\n",
    "\n",
    "dense_layer = Dense(NUM_WORDS, activation='softmax')\n",
    "output = TimeDistributed(dense_layer)(decoder_output)\n",
    "model = Model([encoder_input_layer, decoder_input_layer], output)\n",
    "\n",
    "model.summary()"
   ]
  },
  {
   "cell_type": "code",
   "execution_count": 171,
   "id": "casual-display",
   "metadata": {},
   "outputs": [
    {
     "name": "stdout",
     "output_type": "stream",
     "text": [
      "Epoch 1/5\n",
      "625/625 [==============================] - 215s 343ms/step - loss: 3.1832 - accuracy: 0.5111\n",
      "Epoch 2/5\n",
      "625/625 [==============================] - 198s 317ms/step - loss: 2.0397 - accuracy: 0.6166\n",
      "Epoch 3/5\n",
      "625/625 [==============================] - 206s 330ms/step - loss: 1.4188 - accuracy: 0.7447\n",
      "Epoch 4/5\n",
      "625/625 [==============================] - 199s 319ms/step - loss: 1.0755 - accuracy: 0.8068\n",
      "Epoch 5/5\n",
      "625/625 [==============================] - 199s 319ms/step - loss: 0.8739 - accuracy: 0.8341\n"
     ]
    }
   ],
   "source": [
    "BATCH_SIZE = 32\n",
    "EPOCHS = 5\n",
    "\n",
    "model.compile(optimizer='adam', \n",
    "              loss ='categorical_crossentropy', \n",
    "              metrics = ['accuracy'])\n",
    "\n",
    "history = model.fit([encoder_seq, decoder_seq], \n",
    "                     result_output, \n",
    "                     epochs=EPOCHS, \n",
    "                     batch_size=BATCH_SIZE)"
   ]
  },
  {
   "cell_type": "markdown",
   "id": "loved-three",
   "metadata": {},
   "source": [
    "### Results"
   ]
  },
  {
   "cell_type": "code",
   "execution_count": 199,
   "id": "starting-kruger",
   "metadata": {},
   "outputs": [],
   "source": [
    "test_data = encoder_seq[0]\n",
    "test_data = test_data[np.newaxis,]\n",
    "\n",
    "expected_answer = np.zeros((1, MAXLEN))\n",
    "expected_answer[0, -1] = 1"
   ]
  },
  {
   "cell_type": "code",
   "execution_count": 200,
   "id": "million-polls",
   "metadata": {},
   "outputs": [
    {
     "name": "stdout",
     "output_type": "stream",
     "text": [
      "0\n",
      "1\n",
      "2\n",
      "3\n",
      "4\n",
      "5\n"
     ]
    }
   ],
   "source": [
    "for i in range(6):\n",
    "    print(i)\n",
    "    res = model.predict([test_data, expected_answer])\n",
    "    ye = np.argmax(res)\n",
    "    mp = np.argmax(ye)\n",
    "    expected_answer[0, 0:-1] = expected_answer[0, 1:]\n",
    "    expected_answer[0, -1] = mp"
   ]
  },
  {
   "cell_type": "code",
   "execution_count": null,
   "id": "superb-likelihood",
   "metadata": {},
   "outputs": [],
   "source": []
  }
 ],
 "metadata": {
  "kernelspec": {
   "display_name": "Python 3",
   "language": "python",
   "name": "python3"
  },
  "language_info": {
   "codemirror_mode": {
    "name": "ipython",
    "version": 3
   },
   "file_extension": ".py",
   "mimetype": "text/x-python",
   "name": "python",
   "nbconvert_exporter": "python",
   "pygments_lexer": "ipython3",
   "version": "3.8.5"
  }
 },
 "nbformat": 4,
 "nbformat_minor": 5
}
