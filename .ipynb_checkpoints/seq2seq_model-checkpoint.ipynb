{
 "cells": [
  {
   "cell_type": "code",
   "execution_count": 109,
   "id": "dense-course",
   "metadata": {},
   "outputs": [],
   "source": [
    "import numpy as np\n",
    "import pandas as pd\n",
    "\n",
    "import tensorflow as tf\n",
    "from tensorflow.keras.layers import Input, Embedding, LSTM, Dense, TimeDistributed\n",
    "from tensorflow.keras.models import Model\n",
    "from tensorflow.keras.preprocessing.text import Tokenizer\n",
    "from tensorflow.keras.preprocessing.sequence import pad_sequences"
   ]
  },
  {
   "cell_type": "code",
   "execution_count": 97,
   "id": "emerging-glenn",
   "metadata": {},
   "outputs": [],
   "source": [
    "input_data = pd.read_csv('input_data.csv')\n",
    "num_obs = 50_000\n",
    "input_data = input_data.sample(num_obs, random_state=10)"
   ]
  },
  {
   "cell_type": "code",
   "execution_count": 98,
   "id": "successful-messaging",
   "metadata": {},
   "outputs": [
    {
     "name": "stdout",
     "output_type": "stream",
     "text": [
      "(50000, 2)\n"
     ]
    },
    {
     "data": {
      "text/html": [
       "<div>\n",
       "<style scoped>\n",
       "    .dataframe tbody tr th:only-of-type {\n",
       "        vertical-align: middle;\n",
       "    }\n",
       "\n",
       "    .dataframe tbody tr th {\n",
       "        vertical-align: top;\n",
       "    }\n",
       "\n",
       "    .dataframe thead th {\n",
       "        text-align: right;\n",
       "    }\n",
       "</style>\n",
       "<table border=\"1\" class=\"dataframe\">\n",
       "  <thead>\n",
       "    <tr style=\"text-align: right;\">\n",
       "      <th></th>\n",
       "      <th>clean_quest</th>\n",
       "      <th>clean_ans</th>\n",
       "    </tr>\n",
       "  </thead>\n",
       "  <tbody>\n",
       "    <tr>\n",
       "      <th>98754</th>\n",
       "      <td>what a dork huh huh</td>\n",
       "      <td>yeah heh heh he is a anus heh heh</td>\n",
       "    </tr>\n",
       "    <tr>\n",
       "      <th>20364</th>\n",
       "      <td>the safety circuit is failed</td>\n",
       "      <td>we are losing atmosphere ...</td>\n",
       "    </tr>\n",
       "    <tr>\n",
       "      <th>188963</th>\n",
       "      <td>that is okay i have already had lunch</td>\n",
       "      <td>you must eat lunch pretty early it is only ele...</td>\n",
       "    </tr>\n",
       "    <tr>\n",
       "      <th>189144</th>\n",
       "      <td>the battery is in that is done with besides yo...</td>\n",
       "      <td>... u might /u do the same i have to warn you ...</td>\n",
       "    </tr>\n",
       "    <tr>\n",
       "      <th>20610</th>\n",
       "      <td>are you kidding</td>\n",
       "      <td>no i distinctly remember you walked out my doo...</td>\n",
       "    </tr>\n",
       "  </tbody>\n",
       "</table>\n",
       "</div>"
      ],
      "text/plain": [
       "                                              clean_quest  \\\n",
       "98754                                 what a dork huh huh   \n",
       "20364                        the safety circuit is failed   \n",
       "188963              that is okay i have already had lunch   \n",
       "189144  the battery is in that is done with besides yo...   \n",
       "20610                                     are you kidding   \n",
       "\n",
       "                                                clean_ans  \n",
       "98754                   yeah heh heh he is a anus heh heh  \n",
       "20364                        we are losing atmosphere ...  \n",
       "188963  you must eat lunch pretty early it is only ele...  \n",
       "189144  ... u might /u do the same i have to warn you ...  \n",
       "20610   no i distinctly remember you walked out my doo...  "
      ]
     },
     "execution_count": 98,
     "metadata": {},
     "output_type": "execute_result"
    }
   ],
   "source": [
    "print(input_data.shape)\n",
    "input_data.head()"
   ]
  },
  {
   "cell_type": "code",
   "execution_count": 99,
   "id": "characteristic-samoa",
   "metadata": {},
   "outputs": [
    {
     "data": {
      "text/plain": [
       "98754         <BOS> yeah heh heh he is a anus heh heh <EOS>\n",
       "20364              <BOS> we are losing atmosphere ... <EOS>\n",
       "188963    <BOS> you must eat lunch pretty early it is on...\n",
       "189144    <BOS> ... u might /u do the same i have to war...\n",
       "20610     <BOS> no i distinctly remember you walked out ...\n",
       "                                ...                        \n",
       "107051    <BOS> please they show previews for foreign mo...\n",
       "53397     <BOS> we are not sure she is been to all kinds...\n",
       "22028                          <BOS> mama what is ... <EOS>\n",
       "177844                                  <BOS> do tell <EOS>\n",
       "57445                                    <BOS> nothin <EOS>\n",
       "Name: clean_ans, Length: 49935, dtype: object"
      ]
     },
     "execution_count": 99,
     "metadata": {},
     "output_type": "execute_result"
    }
   ],
   "source": [
    "input_data = input_data.dropna(axis=0)\n",
    "\n",
    "encoder_input = input_data['clean_quest']\n",
    "decoder_input = input_data['clean_ans']\n",
    "decoder_input = '<BOS> ' + decoder_input + ' <EOS>'\n",
    "full_input = pd.concat([encoder_input, decoder_input], \n",
    "                       ignore_index=True)\n",
    "\n",
    "decoder_input"
   ]
  },
  {
   "cell_type": "code",
   "execution_count": 100,
   "id": "incomplete-distributor",
   "metadata": {},
   "outputs": [
    {
     "data": {
      "text/plain": [
       "98754                                   what a dork huh huh\n",
       "20364                          the safety circuit is failed\n",
       "188963                that is okay i have already had lunch\n",
       "189144    the battery is in that is done with besides yo...\n",
       "20610                                       are you kidding\n",
       "                                ...                        \n",
       "107051                                       beverly center\n",
       "53397                                          what is that\n",
       "22028     it is alright now little sister everything is ...\n",
       "177844                      know what i love about dynamite\n",
       "57445                                           no i ai not\n",
       "Name: clean_quest, Length: 49935, dtype: object"
      ]
     },
     "execution_count": 100,
     "metadata": {},
     "output_type": "execute_result"
    }
   ],
   "source": [
    "encoder_input"
   ]
  },
  {
   "cell_type": "code",
   "execution_count": 101,
   "id": "serial-calcium",
   "metadata": {},
   "outputs": [],
   "source": [
    "NUM_WORDS = 10_000\n",
    "\n",
    "tokenizer = Tokenizer(num_words=10_000)\n",
    "tokenizer.fit_on_texts(full_input)\n",
    "\n",
    "encoder_seq = tokenizer.texts_to_sequences(encoder_input)\n",
    "decoder_seq = tokenizer.texts_to_sequences(decoder_input)\n",
    "\n",
    "MAXLEN = 20\n",
    "\n",
    "encoder_seq = pad_sequences(encoder_seq, maxlen=MAXLEN, \n",
    "                            padding='post', truncating='post')\n",
    "        \n",
    "decoder_seq = pad_sequences(decoder_seq, maxlen=MAXLEN, \n",
    "                            padding='post', truncating='post')      "
   ]
  },
  {
   "cell_type": "code",
   "execution_count": 107,
   "id": "undefined-manitoba",
   "metadata": {},
   "outputs": [],
   "source": [
    "decoder_output = np.zeros(shape=(len(encoder_seq), MAXLEN, NUM_WORDS), \n",
    "                          dtype='uint8')\n",
    "\n",
    "for i, sequences in enumerate(decoder_seq):\n",
    "    for j, sequence in enumerate(sequences):\n",
    "        if j > 0:\n",
    "            decoder_output[i, j, sequence] = 1"
   ]
  },
  {
   "cell_type": "markdown",
   "id": "fancy-address",
   "metadata": {},
   "source": [
    "### Modelling"
   ]
  },
  {
   "cell_type": "code",
   "execution_count": 110,
   "id": "loved-replication",
   "metadata": {},
   "outputs": [
    {
     "name": "stdout",
     "output_type": "stream",
     "text": [
      "Model: \"functional_1\"\n",
      "__________________________________________________________________________________________________\n",
      "Layer (type)                    Output Shape         Param #     Connected to                     \n",
      "==================================================================================================\n",
      "input_2 (InputLayer)            [(None, 20)]         0                                            \n",
      "__________________________________________________________________________________________________\n",
      "input_1 (InputLayer)            [(None, 20)]         0                                            \n",
      "__________________________________________________________________________________________________\n",
      "embedding (Embedding)           (None, 20, 50)       500000      input_1[0][0]                    \n",
      "                                                                 input_2[0][0]                    \n",
      "__________________________________________________________________________________________________\n",
      "lstm (LSTM)                     [(None, 100), (None, 60400       embedding[0][0]                  \n",
      "__________________________________________________________________________________________________\n",
      "lstm_1 (LSTM)                   [(None, 20, 100), (N 60400       embedding[1][0]                  \n",
      "                                                                 lstm[0][1]                       \n",
      "                                                                 lstm[0][2]                       \n",
      "__________________________________________________________________________________________________\n",
      "time_distributed (TimeDistribut (None, 20, 10000)    1010000     lstm_1[0][0]                     \n",
      "==================================================================================================\n",
      "Total params: 1,630,800\n",
      "Trainable params: 1,630,800\n",
      "Non-trainable params: 0\n",
      "__________________________________________________________________________________________________\n"
     ]
    }
   ],
   "source": [
    "encoder_input_layer = Input(shape=(MAXLEN,), dtype='int32')\n",
    "embedding_layer = Embedding(NUM_WORDS, 50)\n",
    "encoder_embedding = embedding_layer(encoder_input_layer)\n",
    "encoder_lstm = LSTM(100, return_state=True)\n",
    "encoder_outputs, state_h, state_c = encoder_lstm(encoder_embedding)\n",
    "\n",
    "decoder_input_layer = Input(shape=(MAXLEN,), dtype='int32')\n",
    "decoder_embedding = embedding_layer(decoder_input_layer)\n",
    "decoder_lstm = LSTM(100, return_state=True, return_sequences=True)\n",
    "decoder_output, _, _ = decoder_lstm(decoder_embedding, \n",
    "                                    initial_state=[state_h, state_c])\n",
    "\n",
    "dense_layer = Dense(NUM_WORDS, activation='softmax')\n",
    "output = TimeDistributed(dense_layer)(decoder_output)\n",
    "model = Model([encoder_input_layer, decoder_input_layer], output)\n",
    "\n",
    "model.summary()"
   ]
  },
  {
   "cell_type": "code",
   "execution_count": null,
   "id": "exotic-bracket",
   "metadata": {},
   "outputs": [],
   "source": []
  }
 ],
 "metadata": {
  "kernelspec": {
   "display_name": "Python 3",
   "language": "python",
   "name": "python3"
  },
  "language_info": {
   "codemirror_mode": {
    "name": "ipython",
    "version": 3
   },
   "file_extension": ".py",
   "mimetype": "text/x-python",
   "name": "python",
   "nbconvert_exporter": "python",
   "pygments_lexer": "ipython3",
   "version": "3.8.5"
  }
 },
 "nbformat": 4,
 "nbformat_minor": 5
}
