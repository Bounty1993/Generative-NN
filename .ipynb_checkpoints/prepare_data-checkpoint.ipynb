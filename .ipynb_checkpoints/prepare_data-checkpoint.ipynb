{
 "cells": [
  {
   "cell_type": "code",
   "execution_count": 33,
   "id": "matched-entrance",
   "metadata": {},
   "outputs": [],
   "source": [
    "import os\n",
    "import re\n",
    "import pandas as pd"
   ]
  },
  {
   "cell_type": "code",
   "execution_count": 36,
   "id": "nominated-rouge",
   "metadata": {},
   "outputs": [],
   "source": [
    "conv_path = os.path.join('datasets', 'movie_conversations.txt')\n",
    "convs = []\n",
    "with open(conv_path) as file:\n",
    "    for row in file:\n",
    "        one_line = row.split('+++$+++')[-1]\n",
    "        one_line = one_line.strip()\n",
    "        one_line = re.sub('[\\[\\'\\]]', '', one_line)\n",
    "        convs.append(one_line.split(', '))"
   ]
  },
  {
   "cell_type": "code",
   "execution_count": 54,
   "id": "accompanied-tokyo",
   "metadata": {},
   "outputs": [],
   "source": [
    "convs_pairs = []\n",
    "for row in convs:\n",
    "    while len(row) > 1:\n",
    "        convs_pairs.append(row[:2])\n",
    "        row = row[1:]\n",
    "convs_pairs = pd.DataFrame(convs_pairs, \n",
    "                           columns=['question_code', 'answer_code'])"
   ]
  },
  {
   "cell_type": "code",
   "execution_count": 67,
   "id": "alpha-asbestos",
   "metadata": {},
   "outputs": [],
   "source": [
    "lines_path = os.path.join('datasets', 'movie_lines.txt')\n",
    "lines_convs = []\n",
    "with open(lines_path) as file:\n",
    "    for row in file:\n",
    "        one_line = row.split('+++$+++')\n",
    "        code, text = one_line[0], one_line[-1]\n",
    "        lines_convs.append([code.strip(), text.strip()])\n",
    "code_lines = pd.DataFrame(lines_convs, columns=['code', 'text'])"
   ]
  },
  {
   "cell_type": "code",
   "execution_count": 77,
   "id": "designed-mount",
   "metadata": {},
   "outputs": [],
   "source": [
    "clean_text = pd.merge(convs_pairs, code_lines, \n",
    "                      left_on='question_code', right_on='code',\n",
    "                      how='left')\n",
    "clean_text.rename(columns={'text': 'question'},\n",
    "                  inplace=True)\n",
    "clean_text = pd.merge(clean_text, code_lines, \n",
    "                      left_on='answer_code', right_on='code',\n",
    "                      how='left')\n",
    "clean_text.rename(columns={'text': 'answer'},\n",
    "                  inplace=True)"
   ]
  },
  {
   "cell_type": "code",
   "execution_count": 78,
   "id": "yellow-lucas",
   "metadata": {},
   "outputs": [
    {
     "data": {
      "text/html": [
       "<div>\n",
       "<style scoped>\n",
       "    .dataframe tbody tr th:only-of-type {\n",
       "        vertical-align: middle;\n",
       "    }\n",
       "\n",
       "    .dataframe tbody tr th {\n",
       "        vertical-align: top;\n",
       "    }\n",
       "\n",
       "    .dataframe thead th {\n",
       "        text-align: right;\n",
       "    }\n",
       "</style>\n",
       "<table border=\"1\" class=\"dataframe\">\n",
       "  <thead>\n",
       "    <tr style=\"text-align: right;\">\n",
       "      <th></th>\n",
       "      <th>question_code</th>\n",
       "      <th>answer_code</th>\n",
       "      <th>code_x</th>\n",
       "      <th>question</th>\n",
       "      <th>code_y</th>\n",
       "      <th>answer</th>\n",
       "    </tr>\n",
       "  </thead>\n",
       "  <tbody>\n",
       "    <tr>\n",
       "      <th>0</th>\n",
       "      <td>L194</td>\n",
       "      <td>L195</td>\n",
       "      <td>L194</td>\n",
       "      <td>Can we make this quick?  Roxanne Korrine and A...</td>\n",
       "      <td>L195</td>\n",
       "      <td>Well, I thought we'd start with pronunciation,...</td>\n",
       "    </tr>\n",
       "    <tr>\n",
       "      <th>1</th>\n",
       "      <td>L195</td>\n",
       "      <td>L196</td>\n",
       "      <td>L195</td>\n",
       "      <td>Well, I thought we'd start with pronunciation,...</td>\n",
       "      <td>L196</td>\n",
       "      <td>Not the hacking and gagging and spitting part....</td>\n",
       "    </tr>\n",
       "    <tr>\n",
       "      <th>2</th>\n",
       "      <td>L196</td>\n",
       "      <td>L197</td>\n",
       "      <td>L196</td>\n",
       "      <td>Not the hacking and gagging and spitting part....</td>\n",
       "      <td>L197</td>\n",
       "      <td>Okay... then how 'bout we try out some French ...</td>\n",
       "    </tr>\n",
       "    <tr>\n",
       "      <th>3</th>\n",
       "      <td>L198</td>\n",
       "      <td>L199</td>\n",
       "      <td>L198</td>\n",
       "      <td>You're asking me out.  That's so cute. What's ...</td>\n",
       "      <td>L199</td>\n",
       "      <td>Forget it.</td>\n",
       "    </tr>\n",
       "    <tr>\n",
       "      <th>4</th>\n",
       "      <td>L200</td>\n",
       "      <td>L201</td>\n",
       "      <td>L200</td>\n",
       "      <td>No, no, it's my fault -- we didn't have a prop...</td>\n",
       "      <td>L201</td>\n",
       "      <td>Cameron.</td>\n",
       "    </tr>\n",
       "  </tbody>\n",
       "</table>\n",
       "</div>"
      ],
      "text/plain": [
       "  question_code answer_code code_x  \\\n",
       "0          L194        L195   L194   \n",
       "1          L195        L196   L195   \n",
       "2          L196        L197   L196   \n",
       "3          L198        L199   L198   \n",
       "4          L200        L201   L200   \n",
       "\n",
       "                                            question code_y  \\\n",
       "0  Can we make this quick?  Roxanne Korrine and A...   L195   \n",
       "1  Well, I thought we'd start with pronunciation,...   L196   \n",
       "2  Not the hacking and gagging and spitting part....   L197   \n",
       "3  You're asking me out.  That's so cute. What's ...   L199   \n",
       "4  No, no, it's my fault -- we didn't have a prop...   L201   \n",
       "\n",
       "                                              answer  \n",
       "0  Well, I thought we'd start with pronunciation,...  \n",
       "1  Not the hacking and gagging and spitting part....  \n",
       "2  Okay... then how 'bout we try out some French ...  \n",
       "3                                         Forget it.  \n",
       "4                                           Cameron.  "
      ]
     },
     "execution_count": 78,
     "metadata": {},
     "output_type": "execute_result"
    }
   ],
   "source": [
    "clean_text.head()"
   ]
  },
  {
   "cell_type": "code",
   "execution_count": null,
   "id": "incorporated-still",
   "metadata": {},
   "outputs": [],
   "source": []
  }
 ],
 "metadata": {
  "kernelspec": {
   "display_name": "Python 3",
   "language": "python",
   "name": "python3"
  },
  "language_info": {
   "codemirror_mode": {
    "name": "ipython",
    "version": 3
   },
   "file_extension": ".py",
   "mimetype": "text/x-python",
   "name": "python",
   "nbconvert_exporter": "python",
   "pygments_lexer": "ipython3",
   "version": "3.8.5"
  }
 },
 "nbformat": 4,
 "nbformat_minor": 5
}
