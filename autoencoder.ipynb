{
 "cells": [
  {
   "cell_type": "code",
   "execution_count": 1,
   "id": "hired-newman",
   "metadata": {},
   "outputs": [],
   "source": [
    "import numpy as np\n",
    "import pandas as pd\n",
    "\n",
    "import tensorflow as tf\n",
    "from tensorflow.keras.layers import (Layer, Input, Conv2D, BatchNormalization, Dropout, Dense, \n",
    "                                     Flatten, Reshape, Conv2DTranspose)\n",
    "from tensorflow.keras.models import Model\n",
    "from tensorflow.keras import backend as K"
   ]
  },
  {
   "cell_type": "code",
   "execution_count": 28,
   "id": "handy-technology",
   "metadata": {},
   "outputs": [],
   "source": [
    "class Encoder:\n",
    "    def __init__(self, num_conv_layers, encoder_conv_filters, encoder_strides,\n",
    "                 encoder_output_dim, dropout_rate=None, input_dim=None, name='encoder', **kwargs):\n",
    "        #super(Encoder, self).__init__(name=name, **kwargs)\n",
    "        self.input_dim = input_dim\n",
    "        self.dropout_rate = dropout_rate\n",
    "\n",
    "        self.conv_layers = []\n",
    "        for i in range(num_conv_layers):\n",
    "            conv_layer = Conv2D(filters=encoder_conv_filters[i],\n",
    "                                kernel_size=(3, 3),\n",
    "                                strides=encoder_strides[i],\n",
    "                                padding='same',\n",
    "                                activation='relu',\n",
    "                                name=f'encoder_conv_{i}')\n",
    "            self.conv_layers.append(conv_layer)\n",
    "            \n",
    "        self.dense_layer = Dense(encoder_output_dim, name='encoder_output')\n",
    "        \n",
    "    \n",
    "    def model(self):\n",
    "        model_input = Input(shape=self.input_dim)\n",
    "        return Model(model_input, self.call(model_input))\n",
    "            \n",
    "\n",
    "    def call(self, inputs):\n",
    "        x = inputs\n",
    "        for conv_layer in self.conv_layers:\n",
    "\n",
    "            x = conv_layer(x)\n",
    "        x = Flatten()(x)\n",
    "        #self.shape_before_flat = K.int_shape(x)[1:] \n",
    "        x = self.dense_layer(x)\n",
    "        return x\n",
    "    \n",
    "    \n",
    "class Decoder:\n",
    "    def __init__(self, num_conv_layers, decoder_conv_filters, shape_before_flat, \n",
    "                 decoder_strides, dropout_rate=None, input_dim=None, name='decoder', **kwargs):\n",
    "        #super(Decoder, self).__init__(name=name, **kwargs)\n",
    "        self.input_dim = input_dim\n",
    "        self.dense = Dense(np.prod(shape_before_flat), activation='relu')\n",
    "        self.reshape = Reshape(shape_before_flat)\n",
    "        self.conv_layers = []\n",
    "        for i in range(num_conv_layers - 1):\n",
    "            conv_layer = Conv2DTranspose(filters=decoder_conv_filters[i],\n",
    "                                         kernel_size=(3, 3),\n",
    "                                         strides=decoder_strides[i],\n",
    "                                         padding='same',\n",
    "                                         activation='relu',\n",
    "                                         name=f'decoder_conv_{i}')\n",
    "            self.conv_layers.append(conv_layer)\n",
    "            \n",
    "        self.output_layer = Conv2DTranspose(filters=1,\n",
    "                                            kernel_size=(3, 3),\n",
    "                                            strides=1,\n",
    "                                            padding='same',\n",
    "                                            activation='sigmoid', \n",
    "                                            name=f'output_layer')\n",
    "        \n",
    "        \n",
    "    def model(self):\n",
    "        model_input = Input(shape=self.input_dim)\n",
    "        return Model(model_input, self.call(model_input))\n",
    "\n",
    "        \n",
    "    def call(self, inputs):\n",
    "        x = self.dense(inputs)\n",
    "        x = self.reshape(x)\n",
    "        for conv_layer in self.conv_layers:\n",
    "            x = conv_layer(x)\n",
    "        return self.output_layer(x)"
   ]
  },
  {
   "cell_type": "code",
   "execution_count": 29,
   "id": "welsh-fight",
   "metadata": {},
   "outputs": [
    {
     "name": "stdout",
     "output_type": "stream",
     "text": [
      "Model: \"functional_19\"\n",
      "_________________________________________________________________\n",
      "Layer (type)                 Output Shape              Param #   \n",
      "=================================================================\n",
      "input_10 (InputLayer)        [(None, 28, 28, 1)]       0         \n",
      "_________________________________________________________________\n",
      "encoder_conv_0 (Conv2D)      (None, 28, 28, 64)        640       \n",
      "_________________________________________________________________\n",
      "encoder_conv_1 (Conv2D)      (None, 14, 14, 64)        36928     \n",
      "_________________________________________________________________\n",
      "encoder_conv_2 (Conv2D)      (None, 7, 7, 64)          36928     \n",
      "_________________________________________________________________\n",
      "encoder_conv_3 (Conv2D)      (None, 7, 7, 64)          36928     \n",
      "_________________________________________________________________\n",
      "flatten_4 (Flatten)          (None, 3136)              0         \n",
      "_________________________________________________________________\n",
      "encoder_output (Dense)       (None, 2)                 6274      \n",
      "=================================================================\n",
      "Total params: 117,698\n",
      "Trainable params: 117,698\n",
      "Non-trainable params: 0\n",
      "_________________________________________________________________\n"
     ]
    }
   ],
   "source": [
    "num_conv_layers = 4\n",
    "encoder_conv_filters = [64, 64, 64, 64]\n",
    "encoder_output_dim=2\n",
    "encoder_strides = [1,2,2,1]\n",
    "input_dim=(28, 28, 1)\n",
    "\n",
    "encoder_model = Encoder(num_conv_layers=num_conv_layers, \n",
    "                        encoder_conv_filters=encoder_conv_filters, \n",
    "                        encoder_output_dim=encoder_output_dim, \n",
    "                        encoder_strides=encoder_strides,\n",
    "                        input_dim=input_dim)\n",
    "encoder_model.model().summary()"
   ]
  },
  {
   "cell_type": "code",
   "execution_count": 30,
   "id": "hydraulic-tourist",
   "metadata": {},
   "outputs": [
    {
     "name": "stdout",
     "output_type": "stream",
     "text": [
      "Model: \"functional_21\"\n",
      "_________________________________________________________________\n",
      "Layer (type)                 Output Shape              Param #   \n",
      "=================================================================\n",
      "input_11 (InputLayer)        [(None, 2)]               0         \n",
      "_________________________________________________________________\n",
      "dense_4 (Dense)              (None, 3136)              9408      \n",
      "_________________________________________________________________\n",
      "reshape_4 (Reshape)          (None, 7, 7, 64)          0         \n",
      "_________________________________________________________________\n",
      "decoder_conv_0 (Conv2DTransp (None, 7, 7, 64)          36928     \n",
      "_________________________________________________________________\n",
      "decoder_conv_1 (Conv2DTransp (None, 14, 14, 64)        36928     \n",
      "_________________________________________________________________\n",
      "decoder_conv_2 (Conv2DTransp (None, 28, 28, 64)        36928     \n",
      "_________________________________________________________________\n",
      "output_layer (Conv2DTranspos (None, 28, 28, 1)         577       \n",
      "=================================================================\n",
      "Total params: 120,769\n",
      "Trainable params: 120,769\n",
      "Non-trainable params: 0\n",
      "_________________________________________________________________\n"
     ]
    }
   ],
   "source": [
    "num_conv_layers = 4\n",
    "decoder_conv_filters = [64, 64, 64, 64]\n",
    "encoder_output_dim=2\n",
    "decoder_strides = [1,2,2,1]\n",
    "input_dim=(2,)\n",
    "\n",
    "decoder_model = Decoder(num_conv_layers = num_conv_layers, \n",
    "                        decoder_conv_filters = decoder_conv_filters, \n",
    "                        shape_before_flat = (7, 7, 64), \n",
    "                        decoder_strides = decoder_strides,\n",
    "                        input_dim=input_dim,\n",
    "                        dropout_rate=None, \n",
    "                        name='decoder')\n",
    "decoder_model.model().summary()"
   ]
  },
  {
   "cell_type": "code",
   "execution_count": 33,
   "id": "ordered-province",
   "metadata": {},
   "outputs": [
    {
     "name": "stdout",
     "output_type": "stream",
     "text": [
      "Model: \"functional_25\"\n",
      "_________________________________________________________________\n",
      "Layer (type)                 Output Shape              Param #   \n",
      "=================================================================\n",
      "input_13 (InputLayer)        [(None, 28, 28, 1)]       0         \n",
      "_________________________________________________________________\n",
      "encoder_conv_0 (Conv2D)      (None, 28, 28, 64)        640       \n",
      "_________________________________________________________________\n",
      "encoder_conv_1 (Conv2D)      (None, 14, 14, 64)        36928     \n",
      "_________________________________________________________________\n",
      "encoder_conv_2 (Conv2D)      (None, 7, 7, 64)          36928     \n",
      "_________________________________________________________________\n",
      "encoder_conv_3 (Conv2D)      (None, 7, 7, 64)          36928     \n",
      "_________________________________________________________________\n",
      "flatten_6 (Flatten)          (None, 3136)              0         \n",
      "_________________________________________________________________\n",
      "encoder_output (Dense)       (None, 2)                 6274      \n",
      "_________________________________________________________________\n",
      "dense_4 (Dense)              (None, 3136)              9408      \n",
      "_________________________________________________________________\n",
      "reshape_4 (Reshape)          (None, 7, 7, 64)          0         \n",
      "_________________________________________________________________\n",
      "decoder_conv_0 (Conv2DTransp (None, 7, 7, 64)          36928     \n",
      "_________________________________________________________________\n",
      "decoder_conv_1 (Conv2DTransp (None, 14, 14, 64)        36928     \n",
      "_________________________________________________________________\n",
      "decoder_conv_2 (Conv2DTransp (None, 28, 28, 64)        36928     \n",
      "_________________________________________________________________\n",
      "output_layer (Conv2DTranspos (None, 28, 28, 1)         577       \n",
      "=================================================================\n",
      "Total params: 238,467\n",
      "Trainable params: 238,467\n",
      "Non-trainable params: 0\n",
      "_________________________________________________________________\n"
     ]
    }
   ],
   "source": [
    "encoder_input = Input(shape=(28, 28, 1))\n",
    "encoder_output = encoder_model.call(encoder_input)\n",
    "decoder_output = decoder_model.call(encoder_output)\n",
    "\n",
    "model = Model(encoder_input, decoder_output)\n",
    "\n",
    "model.summary()"
   ]
  },
  {
   "cell_type": "code",
   "execution_count": 36,
   "id": "effective-angola",
   "metadata": {},
   "outputs": [],
   "source": [
    "num_conv_layers = 4\n",
    "conv_units = 64\n",
    "encoder_output_dim=2\n",
    "strides = [1,2,2,1]\n",
    "input_dim=(28, 28, 1)\n",
    "dropout_rate=0.2\n",
    "\n",
    "encoder_input = Input(shape=input_dim)\n",
    "x = encoder_input\n",
    "for i in range(num_conv_layers):\n",
    "    conv_layer = Conv2D(filters=conv_units,\n",
    "                        kernel_size=(3, 3),\n",
    "                        strides=strides[i],\n",
    "                        padding='same',\n",
    "                        activation='relu',\n",
    "                        name=f'encoder_conv_{i}')\n",
    "    x = conv_layer(x)\n",
    "    #x = BatchNormalization()(x)\n",
    "    #x = Dropout(rate=dropout_rate)(x)\n",
    "\n",
    "shape_before_flat = K.int_shape(x)[1:]\n",
    "x = Flatten()(x)\n",
    "dense_layer = Dense(encoder_output_dim, name='encoder_output')\n",
    "encoder_output = dense_layer(x)\n",
    "\n",
    "#encoder_model = Model(encoder_input, encoder_output)\n",
    "#encoder_model.summary()"
   ]
  },
  {
   "cell_type": "code",
   "execution_count": 37,
   "id": "stretch-brick",
   "metadata": {},
   "outputs": [
    {
     "data": {
      "text/plain": [
       "(7, 7, 64)"
      ]
     },
     "execution_count": 37,
     "metadata": {},
     "output_type": "execute_result"
    }
   ],
   "source": [
    "shape_before_flat"
   ]
  },
  {
   "cell_type": "code",
   "execution_count": 38,
   "id": "modified-baker",
   "metadata": {},
   "outputs": [],
   "source": [
    "decoder_input = Input(shape=encoder_output_dim)\n",
    "x = Dense(np.prod(shape_before_flat))(decoder_input)\n",
    "x = Reshape(shape_before_flat)(x)\n",
    "\n",
    "for i in range(num_conv_layers - 1):\n",
    "    conv_layer = Conv2DTranspose(filters=conv_units,\n",
    "                                 kernel_size=(3, 3),\n",
    "                                 strides=strides[i], \n",
    "                                 padding='same',\n",
    "                                 activation='relu',\n",
    "                                 name=f'decoder_conv_{i}')\n",
    "    x = conv_layer(x)\n",
    "    #x = BatchNormalization()(x)\n",
    "    #x = Dropout(rate=dropout_rate)(x)\n",
    "\n",
    "output_layer = Conv2DTranspose(filters=1,\n",
    "                               kernel_size=(3, 3),\n",
    "                               strides=1, \n",
    "                               padding='same',\n",
    "                               activation='sigmoid',\n",
    "                               name=f'decoder_conv_final')\n",
    "x = output_layer(x)\n",
    "decoder_output = x\n",
    "\n",
    "#decoder_model = Model(decoder_input, decoder_output)\n",
    "\n",
    "#decoder_model.summary()"
   ]
  },
  {
   "cell_type": "code",
   "execution_count": 39,
   "id": "incomplete-brake",
   "metadata": {},
   "outputs": [
    {
     "name": "stdout",
     "output_type": "stream",
     "text": [
      "Epoch 1/10\n",
      "32/32 [==============================] - 2s 72ms/step - loss: 0.1473\n",
      "Epoch 2/10\n",
      "32/32 [==============================] - 2s 75ms/step - loss: 0.0914\n",
      "Epoch 3/10\n",
      "32/32 [==============================] - 2s 72ms/step - loss: 0.0682\n",
      "Epoch 4/10\n",
      "32/32 [==============================] - 2s 71ms/step - loss: 0.0665\n",
      "Epoch 5/10\n",
      "32/32 [==============================] - 2s 76ms/step - loss: 0.0649\n",
      "Epoch 6/10\n",
      "32/32 [==============================] - 2s 70ms/step - loss: 0.0617\n",
      "Epoch 7/10\n",
      "32/32 [==============================] - 3s 83ms/step - loss: 0.0592\n",
      "Epoch 8/10\n",
      "32/32 [==============================] - 3s 88ms/step - loss: 0.0572\n",
      "Epoch 9/10\n",
      "32/32 [==============================] - 3s 81ms/step - loss: 0.0559\n",
      "Epoch 10/10\n",
      "32/32 [==============================] - 3s 85ms/step - loss: 0.0546\n"
     ]
    },
    {
     "data": {
      "text/plain": [
       "<tensorflow.python.keras.callbacks.History at 0x1f519db90d0>"
      ]
     },
     "execution_count": 39,
     "metadata": {},
     "output_type": "execute_result"
    }
   ],
   "source": [
    "model_input = encoder_input\n",
    "model_output = decoder_model(encoder_output)\n",
    "\n",
    "model = Model(encoder_input, model_output)\n",
    "\n",
    "\n",
    "def r_loss(y_true, y_pred):\n",
    "    return K.mean(K.square(y_true - y_pred), axis = [1,2,3])\n",
    "\n",
    "model.compile(optimizer='adam', loss=r_loss)\n",
    "model.fit(x_train[:1000], x_train[:1000], epochs=10)"
   ]
  },
  {
   "cell_type": "code",
   "execution_count": null,
   "id": "numerical-stocks",
   "metadata": {},
   "outputs": [],
   "source": []
  },
  {
   "cell_type": "code",
   "execution_count": null,
   "id": "distant-psychiatry",
   "metadata": {},
   "outputs": [],
   "source": []
  },
  {
   "cell_type": "code",
   "execution_count": 40,
   "id": "greatest-stopping",
   "metadata": {},
   "outputs": [],
   "source": [
    "from tensorflow.keras.datasets import mnist\n",
    "import matplotlib.pyplot as plt"
   ]
  },
  {
   "cell_type": "code",
   "execution_count": 41,
   "id": "established-grant",
   "metadata": {},
   "outputs": [],
   "source": [
    "(x_train, y_train), (x_test, y_test) = mnist.load_data()\n",
    "\n",
    "x_train = x_train.astype('float32') / 255.\n",
    "x_train = x_train.reshape(x_train.shape + (1,))\n",
    "x_test = x_test.astype('float32') / 255.\n",
    "x_test = x_test.reshape(x_test.shape + (1,))"
   ]
  },
  {
   "cell_type": "code",
   "execution_count": 42,
   "id": "embedded-madison",
   "metadata": {},
   "outputs": [
    {
     "name": "stdout",
     "output_type": "stream",
     "text": [
      "Epoch 1/10\n",
      "32/32 [==============================] - 2s 77ms/step - loss: 0.0542\n",
      "Epoch 2/10\n",
      "32/32 [==============================] - 3s 82ms/step - loss: 0.0530\n",
      "Epoch 3/10\n",
      "32/32 [==============================] - 3s 91ms/step - loss: 0.0522\n",
      "Epoch 4/10\n",
      "32/32 [==============================] - 3s 98ms/step - loss: 0.0518\n",
      "Epoch 5/10\n",
      "32/32 [==============================] - 3s 86ms/step - loss: 0.0511\n",
      "Epoch 6/10\n",
      "32/32 [==============================] - 3s 79ms/step - loss: 0.0506\n",
      "Epoch 7/10\n",
      "32/32 [==============================] - 3s 81ms/step - loss: 0.0499\n",
      "Epoch 8/10\n",
      "32/32 [==============================] - 3s 80ms/step - loss: 0.0495\n",
      "Epoch 9/10\n",
      "32/32 [==============================] - 2s 77ms/step - loss: 0.0489\n",
      "Epoch 10/10\n",
      "32/32 [==============================] - 3s 84ms/step - loss: 0.0491\n"
     ]
    },
    {
     "data": {
      "text/plain": [
       "<tensorflow.python.keras.callbacks.History at 0x1f51b306070>"
      ]
     },
     "execution_count": 42,
     "metadata": {},
     "output_type": "execute_result"
    }
   ],
   "source": [
    "model.fit(x_train[:1000], x_train[:1000], epochs=10)"
   ]
  },
  {
   "cell_type": "code",
   "execution_count": 43,
   "id": "arabic-convert",
   "metadata": {},
   "outputs": [],
   "source": [
    "res = model.predict(x_test[:3])"
   ]
  },
  {
   "cell_type": "code",
   "execution_count": 47,
   "id": "guided-township",
   "metadata": {},
   "outputs": [
    {
     "data": {
      "text/plain": [
       "<matplotlib.image.AxesImage at 0x1f51b4e87c0>"
      ]
     },
     "execution_count": 47,
     "metadata": {},
     "output_type": "execute_result"
    },
    {
     "data": {
      "image/png": "[encoded data removed]",
      "text/plain": [
       "<Figure size 432x288 with 1 Axes>"
      ]
     },
     "metadata": {
      "needs_background": "light"
     },
     "output_type": "display_data"
    }
   ],
   "source": [
    "plt.imshow(res[2], cmap='gray_r')"
   ]
  },
  {
   "cell_type": "code",
   "execution_count": 175,
   "id": "reserved-riverside",
   "metadata": {},
   "outputs": [
    {
     "data": {
      "text/plain": [
       "<matplotlib.image.AxesImage at 0x17a88ee1940>"
      ]
     },
     "execution_count": 175,
     "metadata": {},
     "output_type": "execute_result"
    },
    {
     "data": {
      "image/png": "[encoded data removed]",
      "text/plain": [
       "<Figure size 432x288 with 1 Axes>"
      ]
     },
     "metadata": {
      "needs_background": "light"
     },
     "output_type": "display_data"
    }
   ],
   "source": [
    "plt.imshow(x_test[0], cmap='gray_r')"
   ]
  },
  {
   "cell_type": "code",
   "execution_count": null,
   "id": "mineral-substitute",
   "metadata": {},
   "outputs": [],
   "source": []
  }
 ],
 "metadata": {
  "kernelspec": {
   "display_name": "Python 3",
   "language": "python",
   "name": "python3"
  },
  "language_info": {
   "codemirror_mode": {
    "name": "ipython",
    "version": 3
   },
   "file_extension": ".py",
   "mimetype": "text/x-python",
   "name": "python",
   "nbconvert_exporter": "python",
   "pygments_lexer": "ipython3",
   "version": "3.8.5"
  }
 },
 "nbformat": 4,
 "nbformat_minor": 5
}
