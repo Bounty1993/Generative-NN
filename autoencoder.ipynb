{
 "cells": [
  {
   "cell_type": "code",
   "execution_count": 116,
   "id": "hired-newman",
   "metadata": {},
   "outputs": [],
   "source": [
    "import numpy as np\n",
    "import pandas as pd\n",
    "\n",
    "import tensorflow as tf\n",
    "from tensorflow.keras.layers import Layer, Input, Conv2D, BatchNormalization, Dropout, Dense, Flatten, Reshape, Conv2DTranspose\n",
    "from tensorflow.keras.models import Model\n",
    "from tensorflow.keras import backend as K"
   ]
  },
  {
   "cell_type": "code",
   "execution_count": 117,
   "id": "handy-technology",
   "metadata": {},
   "outputs": [],
   "source": [
    "class Encoder(Layer):\n",
    "    def __init__(self, num_conv_layers, conv_units, encoder_output_dim, input_dim=None,\n",
    "                 dropout_rate=None, name='encoder', **kwargs):\n",
    "        super(Encoder, self).__init__(name=name, **kwargs)\n",
    "        self.input_dim = input_dim\n",
    "        self.dropout_rate = dropout_rate\n",
    "        \n",
    "        self.input_layer = Input(shape=(self.input_dim))\n",
    "        self.conv_layers = []\n",
    "        for i in range(num_conv_layers):\n",
    "            conv_layer = Conv2D(filters = conv_units, \n",
    "                                kernel_size = (3, 3), \n",
    "                                strides = 2,\n",
    "                                padding = 'same',\n",
    "                                activation='relu',\n",
    "                                name = f'encode_conv_{i}')\n",
    "            self.conv_layers.append(conv_layer)\n",
    "        self.output_layer = Dense(encoder_output_dim)\n",
    "            \n",
    "\n",
    "    def call(self, inputs):\n",
    "        encoder_layer = self.input_layer(inputs)\n",
    "        for conv_layer in self.conv_layers:\n",
    "            encoder_layer = conv_layer(encoder_layer)\n",
    "            encoder_layer = BatchNormalization(encoder_layer)\n",
    "            if dropout_rate is not None:\n",
    "                encoder_layer = Dropout(rate=dropout_rate)(encoder_layer)\n",
    "            \n",
    "        encoder_layer = Flatten(encoder_layer)\n",
    "        output_layer = self.output_layer(encoder_layer)\n",
    "        return output_layer\n",
    "    \n",
    "    \n",
    "def Decoder(Layers):\n",
    "    def __init__(self, num_conv_layers, conv_units, encoder_output_dim, \n",
    "                 dropout_rate=None, name='decoder', **kwargs):\n",
    "        self.decoder_input = Input(shape=(encoder_output_dim))\n",
    "        self.dense = Dense(np.prod())\n",
    "    \n",
    "    \n",
    "class Autoencoder(Model):\n",
    "    def __init__(self, num_conv_layers, conv_units, encoder_output_dim, input_dim=None,\n",
    "                 dropout_rate=None, **kwargs):\n",
    "        super(Autoencoder, self).__init__(**kwargs)\n",
    "        self.encoder = Encoder(num_conv_layers = num_conv_layers, \n",
    "                               conv_units = conv_units, \n",
    "                               encoder_output_dim = encoder_output_dim, \n",
    "                               input_dim = input_dim,\n",
    "                               dropout_rate = dropout_rate)\n",
    "        \n",
    "    def model(self):\n",
    "        input_layer = Input(Input(shape=(24, 24, 3)))\n",
    "        return Model(input_layer, self.call(input_layer))\n",
    "    \n",
    "        \n",
    "    def call(self, inputs):\n",
    "        return self.encoder(inputs)"
   ]
  },
  {
   "cell_type": "code",
   "execution_count": 118,
   "id": "welsh-fight",
   "metadata": {},
   "outputs": [],
   "source": [
    "model = Autoencoder(num_conv_layers=3, conv_units=5, encoder_output_dim=10, input_dim=24)"
   ]
  },
  {
   "cell_type": "code",
   "execution_count": 165,
   "id": "effective-angola",
   "metadata": {},
   "outputs": [
    {
     "name": "stdout",
     "output_type": "stream",
     "text": [
      "Model: \"functional_75\"\n",
      "_________________________________________________________________\n",
      "Layer (type)                 Output Shape              Param #   \n",
      "=================================================================\n",
      "input_61 (InputLayer)        [(None, 28, 28, 1)]       0         \n",
      "_________________________________________________________________\n",
      "encoder_conv_0 (Conv2D)      (None, 28, 28, 64)        640       \n",
      "_________________________________________________________________\n",
      "encoder_conv_1 (Conv2D)      (None, 14, 14, 64)        36928     \n",
      "_________________________________________________________________\n",
      "encoder_conv_2 (Conv2D)      (None, 7, 7, 64)          36928     \n",
      "_________________________________________________________________\n",
      "encoder_conv_3 (Conv2D)      (None, 7, 7, 64)          36928     \n",
      "_________________________________________________________________\n",
      "flatten_13 (Flatten)         (None, 3136)              0         \n",
      "_________________________________________________________________\n",
      "encoder_output (Dense)       (None, 2)                 6274      \n",
      "=================================================================\n",
      "Total params: 117,698\n",
      "Trainable params: 117,698\n",
      "Non-trainable params: 0\n",
      "_________________________________________________________________\n"
     ]
    }
   ],
   "source": [
    "num_conv_layers = 4\n",
    "conv_units = 64\n",
    "encoder_output_dim=2\n",
    "strides = [1,2,2,1]\n",
    "input_dim=(28, 28, 1)\n",
    "dropout_rate=0.2\n",
    "\n",
    "encoder_input = Input(shape=input_dim)\n",
    "x = encoder_input\n",
    "for i in range(num_conv_layers):\n",
    "    conv_layer = Conv2D(filters=conv_units,\n",
    "                        kernel_size=(3, 3),\n",
    "                        strides=strides[i],\n",
    "                        padding='same',\n",
    "                        activation='relu',\n",
    "                        name=f'encoder_conv_{i}')\n",
    "    x = conv_layer(x)\n",
    "    #x = BatchNormalization()(x)\n",
    "    #x = Dropout(rate=dropout_rate)(x)\n",
    "\n",
    "shape_before_flat = K.int_shape(x)[1:]\n",
    "x = Flatten()(x)\n",
    "dense_layer = Dense(encoder_output_dim, name='encoder_output')\n",
    "encoder_output = dense_layer(x)\n",
    "\n",
    "encoder_model = Model(encoder_input, encoder_output)\n",
    "encoder_model.summary()"
   ]
  },
  {
   "cell_type": "code",
   "execution_count": 176,
   "id": "modified-baker",
   "metadata": {},
   "outputs": [
    {
     "name": "stdout",
     "output_type": "stream",
     "text": [
      "Model: \"functional_81\"\n",
      "_________________________________________________________________\n",
      "Layer (type)                 Output Shape              Param #   \n",
      "=================================================================\n",
      "input_63 (InputLayer)        [(None, 2)]               0         \n",
      "_________________________________________________________________\n",
      "dense_26 (Dense)             (None, 3136)              9408      \n",
      "_________________________________________________________________\n",
      "reshape_12 (Reshape)         (None, 7, 7, 64)          0         \n",
      "_________________________________________________________________\n",
      "decoder_conv_0 (Conv2DTransp (None, 7, 7, 64)          36928     \n",
      "_________________________________________________________________\n",
      "decoder_conv_1 (Conv2DTransp (None, 14, 14, 64)        36928     \n",
      "_________________________________________________________________\n",
      "decoder_conv_2 (Conv2DTransp (None, 28, 28, 64)        36928     \n",
      "_________________________________________________________________\n",
      "decoder_conv_final (Conv2DTr (None, 28, 28, 1)         577       \n",
      "=================================================================\n",
      "Total params: 120,769\n",
      "Trainable params: 120,769\n",
      "Non-trainable params: 0\n",
      "_________________________________________________________________\n"
     ]
    }
   ],
   "source": [
    "decoder_input = Input(shape=encoder_output_dim)\n",
    "x = Dense(np.prod(shape_before_flat))(decoder_input)\n",
    "x = Reshape(shape_before_flat)(x)\n",
    "\n",
    "for i in range(num_conv_layers - 1):\n",
    "    conv_layer = Conv2DTranspose(filters=conv_units,\n",
    "                                 kernel_size=(3, 3),\n",
    "                                 strides=strides[i], \n",
    "                                 padding='same',\n",
    "                                 activation='relu',\n",
    "                                 name=f'decoder_conv_{i}')\n",
    "    x = conv_layer(x)\n",
    "    #x = BatchNormalization()(x)\n",
    "    #x = Dropout(rate=dropout_rate)(x)\n",
    "\n",
    "output_layer = Conv2DTranspose(filters=1,\n",
    "                               kernel_size=(3, 3),\n",
    "                               strides=1, \n",
    "                               padding='same',\n",
    "                               activation='sigmoid',\n",
    "                               name=f'decoder_conv_final')\n",
    "x = output_layer(x)\n",
    "decoder_output = x\n",
    "\n",
    "decoder_model = Model(decoder_input, decoder_output)\n",
    "\n",
    "decoder_model.summary()"
   ]
  },
  {
   "cell_type": "code",
   "execution_count": 177,
   "id": "incomplete-brake",
   "metadata": {},
   "outputs": [],
   "source": [
    "model_input = encoder_input\n",
    "model_output = decoder_model(encoder_output)\n",
    "\n",
    "model = Model(encoder_input, model_output)\n",
    "\n",
    "\n",
    "def r_loss(y_true, y_pred):\n",
    "    return K.mean(K.square(y_true - y_pred), axis = [1,2,3])\n",
    "\n",
    "model.compile(optimizer='adam', loss=r_loss)"
   ]
  },
  {
   "cell_type": "code",
   "execution_count": null,
   "id": "numerical-stocks",
   "metadata": {},
   "outputs": [],
   "source": []
  },
  {
   "cell_type": "code",
   "execution_count": null,
   "id": "distant-psychiatry",
   "metadata": {},
   "outputs": [],
   "source": []
  },
  {
   "cell_type": "code",
   "execution_count": 178,
   "id": "greatest-stopping",
   "metadata": {},
   "outputs": [],
   "source": [
    "from tensorflow.keras.datasets import mnist\n",
    "import matplotlib.pyplot as plt"
   ]
  },
  {
   "cell_type": "code",
   "execution_count": 179,
   "id": "established-grant",
   "metadata": {},
   "outputs": [],
   "source": [
    "(x_train, y_train), (x_test, y_test) = mnist.load_data()\n",
    "\n",
    "x_train = x_train.astype('float32') / 255.\n",
    "x_train = x_train.reshape(x_train.shape + (1,))\n",
    "x_test = x_test.astype('float32') / 255.\n",
    "x_test = x_test.reshape(x_test.shape + (1,))"
   ]
  },
  {
   "cell_type": "code",
   "execution_count": 180,
   "id": "embedded-madison",
   "metadata": {},
   "outputs": [
    {
     "name": "stdout",
     "output_type": "stream",
     "text": [
      "Epoch 1/10\n",
      "32/32 [==============================] - 3s 86ms/step - loss: 0.0895\n",
      "Epoch 2/10\n",
      "32/32 [==============================] - 3s 86ms/step - loss: 0.0621\n",
      "Epoch 3/10\n",
      "32/32 [==============================] - 3s 84ms/step - loss: 0.0595\n",
      "Epoch 4/10\n",
      "32/32 [==============================] - 3s 88ms/step - loss: 0.0580\n",
      "Epoch 5/10\n",
      "32/32 [==============================] - 3s 83ms/step - loss: 0.0569\n",
      "Epoch 6/10\n",
      "32/32 [==============================] - 3s 89ms/step - loss: 0.0562\n",
      "Epoch 7/10\n",
      "32/32 [==============================] - 3s 84ms/step - loss: 0.0554\n",
      "Epoch 8/10\n",
      "32/32 [==============================] - 3s 88ms/step - loss: 0.0546\n",
      "Epoch 9/10\n",
      "32/32 [==============================] - 3s 88ms/step - loss: 0.0542\n",
      "Epoch 10/10\n",
      "32/32 [==============================] - 3s 85ms/step - loss: 0.0535\n"
     ]
    },
    {
     "data": {
      "text/plain": [
       "<tensorflow.python.keras.callbacks.History at 0x17a88fb5d90>"
      ]
     },
     "execution_count": 180,
     "metadata": {},
     "output_type": "execute_result"
    }
   ],
   "source": [
    "model.fit(x_train[:1000], x_train[:1000], epochs=10)"
   ]
  },
  {
   "cell_type": "code",
   "execution_count": 171,
   "id": "arabic-convert",
   "metadata": {},
   "outputs": [],
   "source": [
    "res = model.predict(x_test[:3])"
   ]
  },
  {
   "cell_type": "code",
   "execution_count": 174,
   "id": "guided-township",
   "metadata": {},
   "outputs": [
    {
     "data": {
      "text/plain": [
       "<matplotlib.image.AxesImage at 0x17a88e92250>"
      ]
     },
     "execution_count": 174,
     "metadata": {},
     "output_type": "execute_result"
    },
    {
     "data": {
      "image/png": "[encoded data removed]",
      "text/plain": [
       "<Figure size 432x288 with 1 Axes>"
      ]
     },
     "metadata": {
      "needs_background": "light"
     },
     "output_type": "display_data"
    }
   ],
   "source": [
    "plt.imshow(res[0], cmap='gray_r')"
   ]
  },
  {
   "cell_type": "code",
   "execution_count": 175,
   "id": "reserved-riverside",
   "metadata": {},
   "outputs": [
    {
     "data": {
      "text/plain": [
       "<matplotlib.image.AxesImage at 0x17a88ee1940>"
      ]
     },
     "execution_count": 175,
     "metadata": {},
     "output_type": "execute_result"
    },
    {
     "data": {
      "image/png": "[encoded data removed]",
      "text/plain": [
       "<Figure size 432x288 with 1 Axes>"
      ]
     },
     "metadata": {
      "needs_background": "light"
     },
     "output_type": "display_data"
    }
   ],
   "source": [
    "plt.imshow(x_test[0], cmap='gray_r')"
   ]
  },
  {
   "cell_type": "code",
   "execution_count": null,
   "id": "mineral-substitute",
   "metadata": {},
   "outputs": [],
   "source": []
  }
 ],
 "metadata": {
  "kernelspec": {
   "display_name": "Python 3",
   "language": "python",
   "name": "python3"
  },
  "language_info": {
   "codemirror_mode": {
    "name": "ipython",
    "version": 3
   },
   "file_extension": ".py",
   "mimetype": "text/x-python",
   "name": "python",
   "nbconvert_exporter": "python",
   "pygments_lexer": "ipython3",
   "version": "3.8.5"
  }
 },
 "nbformat": 4,
 "nbformat_minor": 5
}
