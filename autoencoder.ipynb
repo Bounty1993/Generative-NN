{
 "cells": [
  {
   "cell_type": "code",
   "execution_count": 3,
   "id": "flush-prototype",
   "metadata": {},
   "outputs": [],
   "source": [
    "import numpy as np\n",
    "import pandas as pd\n",
    "\n",
    "from tensorflow.keras.layers import Layer, Input"
   ]
  },
  {
   "cell_type": "code",
   "execution_count": null,
   "id": "standing-weekly",
   "metadata": {},
   "outputs": [],
   "source": [
    "class Encoder(Layer):\n",
    "    def __init__(self, input_dim, num_conv_layers, name='encoder', **kwargs):\n",
    "        super(Encoder, self).__init__(name=name, **kwargs)\n",
    "        self.input_dim = input_dim\n",
    "        self.num_conv_layers = num_conv_layers\n",
    "        \n",
    "    def __call__(self, inputs):\n",
    "        input_layer = Input(shape=self.input_dim)"
   ]
  }
 ],
 "metadata": {
  "kernelspec": {
   "display_name": "Python 3",
   "language": "python",
   "name": "python3"
  },
  "language_info": {
   "codemirror_mode": {
    "name": "ipython",
    "version": 3
   },
   "file_extension": ".py",
   "mimetype": "text/x-python",
   "name": "python",
   "nbconvert_exporter": "python",
   "pygments_lexer": "ipython3",
   "version": "3.8.5"
  }
 },
 "nbformat": 4,
 "nbformat_minor": 5
}
