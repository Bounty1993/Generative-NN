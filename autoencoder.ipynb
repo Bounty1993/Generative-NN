{
 "cells": [
  {
   "cell_type": "code",
   "execution_count": 19,
   "id": "minute-progress",
   "metadata": {},
   "outputs": [],
   "source": [
    "import numpy as np\n",
    "import pandas as pd\n",
    "\n",
    "from tensorflow.keras.layers import Layer, Input, Conv2D, BatchNormalization, Dropout, Dense, Flatten\n",
    "from tensorflow.keras.models import Model"
   ]
  },
  {
   "cell_type": "code",
   "execution_count": 35,
   "id": "technological-quilt",
   "metadata": {},
   "outputs": [],
   "source": [
    "class Encoder(Layer):\n",
    "    def __init__(self, num_conv_layers, conv_units, encoder_output_dim, input_dim=None,\n",
    "                 dropout_rate=None, name='encoder', **kwargs):\n",
    "        super(Encoder, self).__init__(name=name, **kwargs)\n",
    "        self.input_dim = input_dim\n",
    "        self.dropout_rate = dropout_rate\n",
    "        \n",
    "        self.input_layer = Input(shape=(self.input_dim))\n",
    "        self.conv_layers = []\n",
    "        for i in range(num_conv_layers):\n",
    "            conv_layer = Conv2D(filters = conv_units, \n",
    "                                kernel_size = (3, 3), \n",
    "                                strides = 2,\n",
    "                                padding = 'same',\n",
    "                                activation='relu',\n",
    "                                name = f'encode_conv_{i}')\n",
    "            self.conv_layers.append(conv_layer)\n",
    "        self.output_layer = Dense(encoder_output_dim)\n",
    "            \n",
    "\n",
    "    def call(self, inputs):\n",
    "        encoder_layer = self.input_layer(inputs)\n",
    "        for conv_layer in self.conv_layers:\n",
    "            encoder_layer = conv_layer(encoder_layer)\n",
    "            encoder_layer = BatchNormalization(encoder_layer)\n",
    "            if dropout_rate is not None:\n",
    "                encoder_layer = Dropout(rate=dropout_rate)(encoder_layer)\n",
    "            \n",
    "        encoder_layer = Flatten(encoder_layer)\n",
    "        output_layer = self.output_layer(encoder_layer)\n",
    "        return output_layer\n",
    "    \n",
    "    \n",
    "def Decoder(Layers):\n",
    "    def __init__(self, num_conv_layers, conv_units, encoder_output_dim, \n",
    "                 dropout_rate=None, name='decoder', **kwargs):\n",
    "        self.decoder_input = Input(shape=(encoder_output_dim))\n",
    "        self.dense = Dense(np.prod())\n",
    "    \n",
    "    \n",
    "class Autoencoder(Model):\n",
    "    def __init__(self, num_conv_layers, conv_units, encoder_output_dim, input_dim=None,\n",
    "                 dropout_rate=None, **kwargs):\n",
    "        super(Autoencoder, self).__init__(**kwargs)\n",
    "        self.encoder = Encoder(num_conv_layers = num_conv_layers, \n",
    "                               conv_units = conv_units, \n",
    "                               encoder_output_dim = encoder_output_dim, \n",
    "                               input_dim = input_dim,\n",
    "                               dropout_rate = dropout_rate)\n",
    "        \n",
    "    def model(self):\n",
    "        input_layer = Input(Input(shape=(24, 24, 3)))\n",
    "        return Model(input_layer, self.call(input_layer))\n",
    "    \n",
    "        \n",
    "    def call(self, inputs):\n",
    "        return self.encoder(inputs)"
   ]
  },
  {
   "cell_type": "code",
   "execution_count": 43,
   "id": "academic-remains",
   "metadata": {},
   "outputs": [],
   "source": [
    "model = Autoencoder(num_conv_layers=3, conv_units=5, encoder_output_dim=10, input_dim=24)"
   ]
  },
  {
   "cell_type": "code",
   "execution_count": null,
   "id": "equipped-courage",
   "metadata": {},
   "outputs": [],
   "source": []
  }
 ],
 "metadata": {
  "kernelspec": {
   "display_name": "Python 3",
   "language": "python",
   "name": "python3"
  },
  "language_info": {
   "codemirror_mode": {
    "name": "ipython",
    "version": 3
   },
   "file_extension": ".py",
   "mimetype": "text/x-python",
   "name": "python",
   "nbconvert_exporter": "python",
   "pygments_lexer": "ipython3",
   "version": "3.8.5"
  }
 },
 "nbformat": 4,
 "nbformat_minor": 5
}
