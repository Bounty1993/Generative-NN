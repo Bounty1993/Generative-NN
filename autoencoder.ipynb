{
 "cells": [
  {
   "cell_type": "code",
   "execution_count": 159,
   "id": "hired-newman",
   "metadata": {},
   "outputs": [],
   "source": [
    "import numpy as np\n",
    "import pandas as pd\n",
    "\n",
    "import tensorflow as tf\n",
    "from tensorflow.keras.layers import (Layer, Input, Conv2D, BatchNormalization, Dropout, Dense, \n",
    "                                     Flatten, Reshape, Conv2DTranspose)\n",
    "from tensorflow.keras.models import Model\n",
    "from tensorflow.keras import backend as K"
   ]
  },
  {
   "cell_type": "code",
   "execution_count": 169,
   "id": "handy-technology",
   "metadata": {},
   "outputs": [],
   "source": [
    "class Encoder(Layer):\n",
    "    def __init__(self, num_conv_layers, encoder_conv_filters, encoder_strides,\n",
    "                 encoder_output_dim, dropout_rate=None, input_dim=None, name='encoder', **kwargs):\n",
    "        super(Encoder, self).__init__(name=name, **kwargs)\n",
    "        self.input_dim = input_dim\n",
    "        self.dropout_rate = dropout_rate\n",
    "\n",
    "        self.conv_layers = []\n",
    "        for i in range(num_conv_layers):\n",
    "            conv_layer = Conv2D(filters=encoder_conv_filters[i],\n",
    "                                kernel_size=(3, 3),\n",
    "                                strides=encoder_strides[i],\n",
    "                                padding='same',\n",
    "                                activation='relu',\n",
    "                                name=f'encoder_conv_{i}')\n",
    "            self.conv_layers.append(conv_layer)\n",
    "    \n",
    "        self.dense_layer = Dense(encoder_output_dim, name='encoder_output')\n",
    "        \n",
    "    \n",
    "    def model(self):\n",
    "        model_input = Input(shape=self.input_dim)\n",
    "        return Model(model_input, self.call(model_input))\n",
    "            \n",
    "\n",
    "    def call(self, inputs):\n",
    "        x = inputs\n",
    "        for conv_layer in self.conv_layers:\n",
    "            x = conv_layer(x)\n",
    "        x = Flatten()(x)\n",
    "        self.shape_before_flat = K.int_shape(x)[1:] \n",
    "        x = self.dense_layer(x)\n",
    "        return x\n",
    "    \n",
    "    \n",
    "class Decoder(Layer):\n",
    "    def __init__(self, num_conv_layers, decoder_conv_filters, shape_before_flat, \n",
    "                 decoder_strides, dropout_rate=None, input_dim=None, name='decoder', **kwargs):\n",
    "        super(Decoder, self).__init__(name=name, **kwargs)\n",
    "        self.input_dim = input_dim\n",
    "        self.dense = Dense(np.prod(shape_before_flat), activation='relu')\n",
    "        self.reshape = Reshape(shape_before_flat)\n",
    "        self.conv_layers = []\n",
    "        for i in range(num_conv_layers - 1):\n",
    "            conv_layer = Conv2DTranspose(filters=decoder_conv_filters[i],\n",
    "                                         kernel_size=(3, 3),\n",
    "                                         strides=decoder_strides[i],\n",
    "                                         padding='same',\n",
    "                                         activation='relu',\n",
    "                                         name=f'decoder_conv_{i}')\n",
    "            self.conv_layers.append(conv_layer)\n",
    "            \n",
    "        self.output_layer = Conv2DTranspose(filters=1,\n",
    "                                            kernel_size=(3, 3),\n",
    "                                            strides=decoder_strides[-1],\n",
    "                                            padding='same',\n",
    "                                            activation='sigmoid', \n",
    "                                            name=f'output_layer')\n",
    "        \n",
    "        \n",
    "    def model(self):\n",
    "        model_input = Input(shape=self.input_dim)\n",
    "        return Model(model_input, self.call(model_input))\n",
    "\n",
    "        \n",
    "    def call(self, inputs):\n",
    "        x = self.dense(inputs)\n",
    "        x = self.reshape(x)\n",
    "        for conv_layer in self.conv_layers:\n",
    "            x = conv_layer(x)\n",
    "        return self.output_layer(x)\n",
    "    \n",
    "    \n",
    "class Autoencoder(Model):\n",
    "    def __init__(self, \n",
    "                 num_conv_layers,\n",
    "                 encoder_conv_filters,\n",
    "                 encoder_strides,\n",
    "                 encoder_output_dim, \n",
    "                 input_dim, \n",
    "                 decoder_conv_filters, \n",
    "                 shape_before_flat, \n",
    "                 decoder_strides,\n",
    "                 dropout_rate=None, \n",
    "                 **kwargs):\n",
    "        super(Autoencoder, self).__init__(**kwargs)\n",
    "        self.encoder = Encoder(num_conv_layers = num_conv_layers, \n",
    "                               encoder_conv_filters = encoder_conv_filters,\n",
    "                               encoder_strides = encoder_strides,\n",
    "                               encoder_output_dim = encoder_output_dim, \n",
    "                               input_dim = input_dim,\n",
    "                               dropout_rate = dropout_rate)\n",
    "        self.decoder = Decoder(num_conv_layers = num_conv_layers, \n",
    "                               decoder_conv_filters = decoder_conv_filters, \n",
    "                               shape_before_flat = shape_before_flat, \n",
    "                               decoder_strides = decoder_strides,\n",
    "                               input_dim=(2,),\n",
    "                               dropout_rate=dropout_rate)\n",
    "    \n",
    "        \n",
    "    def call(self, inputs):\n",
    "        encoder_output = self.encoder(inputs)\n",
    "        decoder_output = self.decoder(encoder_output)\n",
    "        return decoder_output"
   ]
  },
  {
   "cell_type": "code",
   "execution_count": 170,
   "id": "welsh-fight",
   "metadata": {},
   "outputs": [
    {
     "name": "stdout",
     "output_type": "stream",
     "text": [
      "Model: \"functional_80\"\n",
      "_________________________________________________________________\n",
      "Layer (type)                 Output Shape              Param #   \n",
      "=================================================================\n",
      "input_54 (InputLayer)        [(None, 28, 28, 1)]       0         \n",
      "_________________________________________________________________\n",
      "encoder_conv_0 (Conv2D)      (None, 28, 28, 32)        320       \n",
      "_________________________________________________________________\n",
      "encoder_conv_1 (Conv2D)      (None, 14, 14, 64)        18496     \n",
      "_________________________________________________________________\n",
      "encoder_conv_2 (Conv2D)      (None, 7, 7, 64)          36928     \n",
      "_________________________________________________________________\n",
      "encoder_conv_3 (Conv2D)      (None, 7, 7, 32)          18464     \n",
      "_________________________________________________________________\n",
      "flatten_34 (Flatten)         (None, 1568)              0         \n",
      "_________________________________________________________________\n",
      "encoder_output (Dense)       (None, 2)                 3138      \n",
      "=================================================================\n",
      "Total params: 77,346\n",
      "Trainable params: 77,346\n",
      "Non-trainable params: 0\n",
      "_________________________________________________________________\n"
     ]
    }
   ],
   "source": [
    "num_conv_layers = 4\n",
    "encoder_conv_filters = [32, 64, 64, 32]\n",
    "encoder_output_dim=2\n",
    "encoder_strides = [1,2,2,1]\n",
    "input_dim=(28, 28, 1)\n",
    "\n",
    "encoder_model = Encoder(num_conv_layers=num_conv_layers, \n",
    "                        encoder_conv_filters=encoder_conv_filters, \n",
    "                        encoder_output_dim=encoder_output_dim, \n",
    "                        encoder_strides=encoder_strides,\n",
    "                        input_dim=input_dim)\n",
    "encoder_model.model().summary()"
   ]
  },
  {
   "cell_type": "code",
   "execution_count": 171,
   "id": "northern-freedom",
   "metadata": {},
   "outputs": [
    {
     "name": "stdout",
     "output_type": "stream",
     "text": [
      "Model: \"functional_82\"\n",
      "_________________________________________________________________\n",
      "Layer (type)                 Output Shape              Param #   \n",
      "=================================================================\n",
      "input_55 (InputLayer)        [(None, 2)]               0         \n",
      "_________________________________________________________________\n",
      "dense_26 (Dense)             (None, 1568)              4704      \n",
      "_________________________________________________________________\n",
      "reshape_26 (Reshape)         (None, 7, 7, 32)          0         \n",
      "_________________________________________________________________\n",
      "decoder_conv_0 (Conv2DTransp (None, 7, 7, 32)          9248      \n",
      "_________________________________________________________________\n",
      "decoder_conv_1 (Conv2DTransp (None, 14, 14, 64)        18496     \n",
      "_________________________________________________________________\n",
      "decoder_conv_2 (Conv2DTransp (None, 28, 28, 64)        36928     \n",
      "_________________________________________________________________\n",
      "output_layer (Conv2DTranspos (None, 28, 28, 1)         577       \n",
      "=================================================================\n",
      "Total params: 69,953\n",
      "Trainable params: 69,953\n",
      "Non-trainable params: 0\n",
      "_________________________________________________________________\n"
     ]
    }
   ],
   "source": [
    "num_conv_layers = 4\n",
    "decoder_conv_filters = [32, 64, 64, 32]\n",
    "encoder_output_dim=2\n",
    "decoder_strides = [1,2,2,1]\n",
    "input_dim=(2,)\n",
    "\n",
    "decoder_model = Decoder(num_conv_layers = num_conv_layers, \n",
    "                        decoder_conv_filters = decoder_conv_filters, \n",
    "                        shape_before_flat = (7, 7, 32), \n",
    "                        decoder_strides = decoder_strides,\n",
    "                        input_dim=input_dim,\n",
    "                        dropout_rate=None, \n",
    "                        name='decoder')\n",
    "decoder_model.model().summary()"
   ]
  },
  {
   "cell_type": "code",
   "execution_count": 172,
   "id": "tribal-offering",
   "metadata": {},
   "outputs": [],
   "source": [
    "model = Autoencoder(num_conv_layers = num_conv_layers,\n",
    "                    encoder_conv_filters = encoder_conv_filters,\n",
    "                    encoder_strides = encoder_strides,\n",
    "                    encoder_output_dim = encoder_output_dim, \n",
    "                    input_dim = (28, 28, 1), \n",
    "                    decoder_conv_filters = decoder_conv_filters, \n",
    "                    shape_before_flat = shape_before_flat, \n",
    "                    decoder_strides = decoder_strides)"
   ]
  },
  {
   "cell_type": "code",
   "execution_count": 177,
   "id": "tired-tutorial",
   "metadata": {},
   "outputs": [
    {
     "name": "stdout",
     "output_type": "stream",
     "text": [
      "Start of epoch 0\n",
      "Start of epoch 1\n",
      "Start of epoch 2\n",
      "Start of epoch 3\n",
      "Start of epoch 4\n"
     ]
    }
   ],
   "source": [
    "optimizer = tf.keras.optimizers.Adam(learning_rate=1e-3)\n",
    "mse_loss_fn = tf.keras.losses.MeanSquaredError()\n",
    "\n",
    "epochs = 5\n",
    "for epoch in range(epochs):\n",
    "    print(\"Start of epoch %d\" % (epoch,))\n",
    "\n",
    "    # Iterate over the batches of the dataset.\n",
    "    for step, x_batch_train in enumerate(x_train[:1000]):\n",
    "        with tf.GradientTape() as tape:\n",
    "            reconstructed = model([x_batch_train])\n",
    "            # Compute reconstruction loss\n",
    "            loss = mse_loss_fn(x_batch_train, reconstructed)\n",
    "\n",
    "        grads = tape.gradient(loss, model.trainable_weights)\n",
    "        optimizer.apply_gradients(zip(grads, model.trainable_weights))"
   ]
  },
  {
   "cell_type": "code",
   "execution_count": 75,
   "id": "effective-angola",
   "metadata": {},
   "outputs": [
    {
     "name": "stdout",
     "output_type": "stream",
     "text": [
      "Model: \"functional_15\"\n",
      "_________________________________________________________________\n",
      "Layer (type)                 Output Shape              Param #   \n",
      "=================================================================\n",
      "input_16 (InputLayer)        [(None, 28, 28, 1)]       0         \n",
      "_________________________________________________________________\n",
      "encoder_conv_0 (Conv2D)      (None, 28, 28, 64)        640       \n",
      "_________________________________________________________________\n",
      "encoder_conv_1 (Conv2D)      (None, 14, 14, 64)        36928     \n",
      "_________________________________________________________________\n",
      "encoder_conv_2 (Conv2D)      (None, 7, 7, 64)          36928     \n",
      "_________________________________________________________________\n",
      "encoder_conv_3 (Conv2D)      (None, 7, 7, 64)          36928     \n",
      "_________________________________________________________________\n",
      "flatten_14 (Flatten)         (None, 3136)              0         \n",
      "_________________________________________________________________\n",
      "encoder_output (Dense)       (None, 2)                 6274      \n",
      "=================================================================\n",
      "Total params: 117,698\n",
      "Trainable params: 117,698\n",
      "Non-trainable params: 0\n",
      "_________________________________________________________________\n"
     ]
    }
   ],
   "source": [
    "num_conv_layers = 4\n",
    "conv_units = 64\n",
    "encoder_output_dim=2\n",
    "strides = [1,2,2,1]\n",
    "input_dim=(28, 28, 1)\n",
    "dropout_rate=0.2\n",
    "\n",
    "encoder_input = Input(shape=input_dim)\n",
    "x = encoder_input\n",
    "for i in range(num_conv_layers):\n",
    "    conv_layer = Conv2D(filters=conv_units,\n",
    "                        kernel_size=(3, 3),\n",
    "                        strides=strides[i],\n",
    "                        padding='same',\n",
    "                        activation='relu',\n",
    "                        name=f'encoder_conv_{i}')\n",
    "    x = conv_layer(x)\n",
    "    #x = BatchNormalization()(x)\n",
    "    #x = Dropout(rate=dropout_rate)(x)\n",
    "\n",
    "shape_before_flat = K.int_shape(x)[1:]\n",
    "x = Flatten()(x)\n",
    "dense_layer = Dense(encoder_output_dim, name='encoder_output')\n",
    "encoder_output = dense_layer(x)\n",
    "\n",
    "encoder_model = Model(encoder_input, encoder_output)\n",
    "encoder_model.summary()"
   ]
  },
  {
   "cell_type": "code",
   "execution_count": 76,
   "id": "central-improvement",
   "metadata": {},
   "outputs": [
    {
     "data": {
      "text/plain": [
       "(7, 7, 64)"
      ]
     },
     "execution_count": 76,
     "metadata": {},
     "output_type": "execute_result"
    }
   ],
   "source": [
    "shape_before_flat"
   ]
  },
  {
   "cell_type": "code",
   "execution_count": 176,
   "id": "modified-baker",
   "metadata": {},
   "outputs": [
    {
     "name": "stdout",
     "output_type": "stream",
     "text": [
      "Model: \"functional_81\"\n",
      "_________________________________________________________________\n",
      "Layer (type)                 Output Shape              Param #   \n",
      "=================================================================\n",
      "input_63 (InputLayer)        [(None, 2)]               0         \n",
      "_________________________________________________________________\n",
      "dense_26 (Dense)             (None, 3136)              9408      \n",
      "_________________________________________________________________\n",
      "reshape_12 (Reshape)         (None, 7, 7, 64)          0         \n",
      "_________________________________________________________________\n",
      "decoder_conv_0 (Conv2DTransp (None, 7, 7, 64)          36928     \n",
      "_________________________________________________________________\n",
      "decoder_conv_1 (Conv2DTransp (None, 14, 14, 64)        36928     \n",
      "_________________________________________________________________\n",
      "decoder_conv_2 (Conv2DTransp (None, 28, 28, 64)        36928     \n",
      "_________________________________________________________________\n",
      "decoder_conv_final (Conv2DTr (None, 28, 28, 1)         577       \n",
      "=================================================================\n",
      "Total params: 120,769\n",
      "Trainable params: 120,769\n",
      "Non-trainable params: 0\n",
      "_________________________________________________________________\n"
     ]
    }
   ],
   "source": [
    "decoder_input = Input(shape=encoder_output_dim)\n",
    "x = Dense(np.prod(shape_before_flat))(decoder_input)\n",
    "x = Reshape(shape_before_flat)(x)\n",
    "\n",
    "for i in range(num_conv_layers - 1):\n",
    "    conv_layer = Conv2DTranspose(filters=conv_units,\n",
    "                                 kernel_size=(3, 3),\n",
    "                                 strides=strides[i], \n",
    "                                 padding='same',\n",
    "                                 activation='relu',\n",
    "                                 name=f'decoder_conv_{i}')\n",
    "    x = conv_layer(x)\n",
    "    #x = BatchNormalization()(x)\n",
    "    #x = Dropout(rate=dropout_rate)(x)\n",
    "\n",
    "output_layer = Conv2DTranspose(filters=1,\n",
    "                               kernel_size=(3, 3),\n",
    "                               strides=1, \n",
    "                               padding='same',\n",
    "                               activation='sigmoid',\n",
    "                               name=f'decoder_conv_final')\n",
    "x = output_layer(x)\n",
    "decoder_output = x\n",
    "\n",
    "decoder_model = Model(decoder_input, decoder_output)\n",
    "\n",
    "decoder_model.summary()"
   ]
  },
  {
   "cell_type": "code",
   "execution_count": 132,
   "id": "incomplete-brake",
   "metadata": {},
   "outputs": [
    {
     "name": "stdout",
     "output_type": "stream",
     "text": [
      "Epoch 1/10\n",
      "32/32 [==============================] - 2s 57ms/step - loss: 0.1555\n",
      "Epoch 2/10\n",
      "32/32 [==============================] - 2s 59ms/step - loss: 0.1096\n",
      "Epoch 3/10\n",
      "32/32 [==============================] - 2s 59ms/step - loss: 0.1096\n",
      "Epoch 4/10\n",
      "32/32 [==============================] - 2s 56ms/step - loss: 0.1096\n",
      "Epoch 5/10\n",
      "32/32 [==============================] - 2s 55ms/step - loss: 0.1096: 0s - los\n",
      "Epoch 6/10\n",
      "32/32 [==============================] - 2s 56ms/step - loss: 0.1096: 0s - loss\n",
      "Epoch 7/10\n",
      "32/32 [==============================] - 2s 60ms/step - loss: 0.1096: 0s \n",
      "Epoch 8/10\n",
      "32/32 [==============================] - 2s 59ms/step - loss: 0.1096\n",
      "Epoch 9/10\n",
      "32/32 [==============================] - 2s 63ms/step - loss: 0.1096\n",
      "Epoch 10/10\n",
      "32/32 [==============================] - 2s 69ms/step - loss: 0.1096\n"
     ]
    },
    {
     "data": {
      "text/plain": [
       "<tensorflow.python.keras.callbacks.History at 0x2d80e1c5c70>"
      ]
     },
     "execution_count": 132,
     "metadata": {},
     "output_type": "execute_result"
    }
   ],
   "source": [
    "model_input = encoder_input\n",
    "model_output = decoder_model(encoder_output)\n",
    "\n",
    "model = Model(encoder_input, model_output)\n",
    "\n",
    "\n",
    "def r_loss(y_true, y_pred):\n",
    "    return K.mean(K.square(y_true - y_pred), axis = [1,2,3])\n",
    "\n",
    "model.compile(optimizer='adam', loss=r_loss)\n",
    "model.fit(x_train[:1000], x_train[:1000], epochs=10)"
   ]
  },
  {
   "cell_type": "code",
   "execution_count": null,
   "id": "numerical-stocks",
   "metadata": {},
   "outputs": [],
   "source": []
  },
  {
   "cell_type": "code",
   "execution_count": null,
   "id": "distant-psychiatry",
   "metadata": {},
   "outputs": [],
   "source": []
  },
  {
   "cell_type": "code",
   "execution_count": 117,
   "id": "greatest-stopping",
   "metadata": {},
   "outputs": [],
   "source": [
    "from tensorflow.keras.datasets import mnist\n",
    "import matplotlib.pyplot as plt"
   ]
  },
  {
   "cell_type": "code",
   "execution_count": 118,
   "id": "established-grant",
   "metadata": {},
   "outputs": [],
   "source": [
    "(x_train, y_train), (x_test, y_test) = mnist.load_data()\n",
    "\n",
    "x_train = x_train.astype('float32') / 255.\n",
    "x_train = x_train.reshape(x_train.shape + (1,))\n",
    "x_test = x_test.astype('float32') / 255.\n",
    "x_test = x_test.reshape(x_test.shape + (1,))"
   ]
  },
  {
   "cell_type": "code",
   "execution_count": 180,
   "id": "embedded-madison",
   "metadata": {},
   "outputs": [
    {
     "ename": "RuntimeError",
     "evalue": "You must compile your model before training/testing. Use `model.compile(optimizer, loss)`.",
     "output_type": "error",
     "traceback": [
      "\u001b[1;31m---------------------------------------------------------------------------\u001b[0m",
      "\u001b[1;31mRuntimeError\u001b[0m                              Traceback (most recent call last)",
      "\u001b[1;32m<ipython-input-180-f098ea6a4c20>\u001b[0m in \u001b[0;36m<module>\u001b[1;34m\u001b[0m\n\u001b[1;32m----> 1\u001b[1;33m \u001b[0mmodel\u001b[0m\u001b[1;33m.\u001b[0m\u001b[0mfit\u001b[0m\u001b[1;33m(\u001b[0m\u001b[0mx_train\u001b[0m\u001b[1;33m[\u001b[0m\u001b[1;33m:\u001b[0m\u001b[1;36m1000\u001b[0m\u001b[1;33m]\u001b[0m\u001b[1;33m,\u001b[0m \u001b[0mx_train\u001b[0m\u001b[1;33m[\u001b[0m\u001b[1;33m:\u001b[0m\u001b[1;36m1000\u001b[0m\u001b[1;33m]\u001b[0m\u001b[1;33m,\u001b[0m \u001b[0mepochs\u001b[0m\u001b[1;33m=\u001b[0m\u001b[1;36m10\u001b[0m\u001b[1;33m)\u001b[0m\u001b[1;33m\u001b[0m\u001b[1;33m\u001b[0m\u001b[0m\n\u001b[0m",
      "\u001b[1;32m~\\anaconda3\\envs\\my_env\\lib\\site-packages\\tensorflow\\python\\keras\\engine\\training.py\u001b[0m in \u001b[0;36m_method_wrapper\u001b[1;34m(self, *args, **kwargs)\u001b[0m\n\u001b[0;32m    106\u001b[0m   \u001b[1;32mdef\u001b[0m \u001b[0m_method_wrapper\u001b[0m\u001b[1;33m(\u001b[0m\u001b[0mself\u001b[0m\u001b[1;33m,\u001b[0m \u001b[1;33m*\u001b[0m\u001b[0margs\u001b[0m\u001b[1;33m,\u001b[0m \u001b[1;33m**\u001b[0m\u001b[0mkwargs\u001b[0m\u001b[1;33m)\u001b[0m\u001b[1;33m:\u001b[0m\u001b[1;33m\u001b[0m\u001b[1;33m\u001b[0m\u001b[0m\n\u001b[0;32m    107\u001b[0m     \u001b[1;32mif\u001b[0m \u001b[1;32mnot\u001b[0m \u001b[0mself\u001b[0m\u001b[1;33m.\u001b[0m\u001b[0m_in_multi_worker_mode\u001b[0m\u001b[1;33m(\u001b[0m\u001b[1;33m)\u001b[0m\u001b[1;33m:\u001b[0m  \u001b[1;31m# pylint: disable=protected-access\u001b[0m\u001b[1;33m\u001b[0m\u001b[1;33m\u001b[0m\u001b[0m\n\u001b[1;32m--> 108\u001b[1;33m       \u001b[1;32mreturn\u001b[0m \u001b[0mmethod\u001b[0m\u001b[1;33m(\u001b[0m\u001b[0mself\u001b[0m\u001b[1;33m,\u001b[0m \u001b[1;33m*\u001b[0m\u001b[0margs\u001b[0m\u001b[1;33m,\u001b[0m \u001b[1;33m**\u001b[0m\u001b[0mkwargs\u001b[0m\u001b[1;33m)\u001b[0m\u001b[1;33m\u001b[0m\u001b[1;33m\u001b[0m\u001b[0m\n\u001b[0m\u001b[0;32m    109\u001b[0m \u001b[1;33m\u001b[0m\u001b[0m\n\u001b[0;32m    110\u001b[0m     \u001b[1;31m# Running inside `run_distribute_coordinator` already.\u001b[0m\u001b[1;33m\u001b[0m\u001b[1;33m\u001b[0m\u001b[1;33m\u001b[0m\u001b[0m\n",
      "\u001b[1;32m~\\anaconda3\\envs\\my_env\\lib\\site-packages\\tensorflow\\python\\keras\\engine\\training.py\u001b[0m in \u001b[0;36mfit\u001b[1;34m(self, x, y, batch_size, epochs, verbose, callbacks, validation_split, validation_data, shuffle, class_weight, sample_weight, initial_epoch, steps_per_epoch, validation_steps, validation_batch_size, validation_freq, max_queue_size, workers, use_multiprocessing)\u001b[0m\n\u001b[0;32m   1029\u001b[0m     \u001b[1;31m# Legacy graph support is contained in `training_v1.Model`.\u001b[0m\u001b[1;33m\u001b[0m\u001b[1;33m\u001b[0m\u001b[1;33m\u001b[0m\u001b[0m\n\u001b[0;32m   1030\u001b[0m     \u001b[0mversion_utils\u001b[0m\u001b[1;33m.\u001b[0m\u001b[0mdisallow_legacy_graph\u001b[0m\u001b[1;33m(\u001b[0m\u001b[1;34m'Model'\u001b[0m\u001b[1;33m,\u001b[0m \u001b[1;34m'fit'\u001b[0m\u001b[1;33m)\u001b[0m\u001b[1;33m\u001b[0m\u001b[1;33m\u001b[0m\u001b[0m\n\u001b[1;32m-> 1031\u001b[1;33m     \u001b[0mself\u001b[0m\u001b[1;33m.\u001b[0m\u001b[0m_assert_compile_was_called\u001b[0m\u001b[1;33m(\u001b[0m\u001b[1;33m)\u001b[0m\u001b[1;33m\u001b[0m\u001b[1;33m\u001b[0m\u001b[0m\n\u001b[0m\u001b[0;32m   1032\u001b[0m     \u001b[0mself\u001b[0m\u001b[1;33m.\u001b[0m\u001b[0m_check_call_args\u001b[0m\u001b[1;33m(\u001b[0m\u001b[1;34m'fit'\u001b[0m\u001b[1;33m)\u001b[0m\u001b[1;33m\u001b[0m\u001b[1;33m\u001b[0m\u001b[0m\n\u001b[0;32m   1033\u001b[0m     \u001b[0m_disallow_inside_tf_function\u001b[0m\u001b[1;33m(\u001b[0m\u001b[1;34m'fit'\u001b[0m\u001b[1;33m)\u001b[0m\u001b[1;33m\u001b[0m\u001b[1;33m\u001b[0m\u001b[0m\n",
      "\u001b[1;32m~\\anaconda3\\envs\\my_env\\lib\\site-packages\\tensorflow\\python\\keras\\engine\\training.py\u001b[0m in \u001b[0;36m_assert_compile_was_called\u001b[1;34m(self)\u001b[0m\n\u001b[0;32m   2567\u001b[0m     \u001b[1;31m# (i.e. whether the model is built and its inputs/outputs are set).\u001b[0m\u001b[1;33m\u001b[0m\u001b[1;33m\u001b[0m\u001b[1;33m\u001b[0m\u001b[0m\n\u001b[0;32m   2568\u001b[0m     \u001b[1;32mif\u001b[0m \u001b[1;32mnot\u001b[0m \u001b[0mself\u001b[0m\u001b[1;33m.\u001b[0m\u001b[0m_is_compiled\u001b[0m\u001b[1;33m:\u001b[0m\u001b[1;33m\u001b[0m\u001b[1;33m\u001b[0m\u001b[0m\n\u001b[1;32m-> 2569\u001b[1;33m       raise RuntimeError('You must compile your model before '\n\u001b[0m\u001b[0;32m   2570\u001b[0m                          \u001b[1;34m'training/testing. '\u001b[0m\u001b[1;33m\u001b[0m\u001b[1;33m\u001b[0m\u001b[0m\n\u001b[0;32m   2571\u001b[0m                          'Use `model.compile(optimizer, loss)`.')\n",
      "\u001b[1;31mRuntimeError\u001b[0m: You must compile your model before training/testing. Use `model.compile(optimizer, loss)`."
     ]
    }
   ],
   "source": [
    "model.fit(x_train[:1000], x_train[:1000], epochs=10)"
   ]
  },
  {
   "cell_type": "code",
   "execution_count": 178,
   "id": "arabic-convert",
   "metadata": {},
   "outputs": [
    {
     "name": "stdout",
     "output_type": "stream",
     "text": [
      "WARNING:tensorflow:AutoGraph could not transform <bound method Encoder.call of <__main__.Encoder object at 0x000002D80E1A45B0>> and will run it as-is.\n",
      "Please report this to the TensorFlow team. When filing the bug, set the verbosity to 10 (on Linux, `export AUTOGRAPH_VERBOSITY=10`) and attach the full output.\n",
      "Cause: module 'gast' has no attribute 'Index'\n",
      "To silence this warning, decorate the function with @tf.autograph.experimental.do_not_convert\n",
      "WARNING: AutoGraph could not transform <bound method Encoder.call of <__main__.Encoder object at 0x000002D80E1A45B0>> and will run it as-is.\n",
      "Please report this to the TensorFlow team. When filing the bug, set the verbosity to 10 (on Linux, `export AUTOGRAPH_VERBOSITY=10`) and attach the full output.\n",
      "Cause: module 'gast' has no attribute 'Index'\n",
      "To silence this warning, decorate the function with @tf.autograph.experimental.do_not_convert\n"
     ]
    }
   ],
   "source": [
    "res = model.predict(x_test[:3])"
   ]
  },
  {
   "cell_type": "code",
   "execution_count": 179,
   "id": "guided-township",
   "metadata": {},
   "outputs": [
    {
     "data": {
      "text/plain": [
       "<matplotlib.image.AxesImage at 0x2d815336850>"
      ]
     },
     "execution_count": 179,
     "metadata": {},
     "output_type": "execute_result"
    },
    {
     "data": {
      "image/png": "[encoded data removed]",
      "text/plain": [
       "<Figure size 432x288 with 1 Axes>"
      ]
     },
     "metadata": {
      "needs_background": "light"
     },
     "output_type": "display_data"
    }
   ],
   "source": [
    "plt.imshow(res[1], cmap='gray_r')"
   ]
  },
  {
   "cell_type": "code",
   "execution_count": 175,
   "id": "reserved-riverside",
   "metadata": {},
   "outputs": [
    {
     "data": {
      "text/plain": [
       "<matplotlib.image.AxesImage at 0x17a88ee1940>"
      ]
     },
     "execution_count": 175,
     "metadata": {},
     "output_type": "execute_result"
    },
    {
     "data": {
      "image/png": "[encoded data removed]",
      "text/plain": [
       "<Figure size 432x288 with 1 Axes>"
      ]
     },
     "metadata": {
      "needs_background": "light"
     },
     "output_type": "display_data"
    }
   ],
   "source": [
    "plt.imshow(x_test[0], cmap='gray_r')"
   ]
  },
  {
   "cell_type": "code",
   "execution_count": null,
   "id": "mineral-substitute",
   "metadata": {},
   "outputs": [],
   "source": []
  }
 ],
 "metadata": {
  "kernelspec": {
   "display_name": "Python 3",
   "language": "python",
   "name": "python3"
  },
  "language_info": {
   "codemirror_mode": {
    "name": "ipython",
    "version": 3
   },
   "file_extension": ".py",
   "mimetype": "text/x-python",
   "name": "python",
   "nbconvert_exporter": "python",
   "pygments_lexer": "ipython3",
   "version": "3.8.5"
  }
 },
 "nbformat": 4,
 "nbformat_minor": 5
}
